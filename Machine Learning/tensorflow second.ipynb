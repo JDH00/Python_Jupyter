{
 "cells": [
  {
   "cell_type": "code",
   "execution_count": 10,
   "id": "02ad6437",
   "metadata": {},
   "outputs": [],
   "source": [
    "import tensorflow as tf"
   ]
  },
  {
   "cell_type": "code",
   "execution_count": 15,
   "id": "c97b525a",
   "metadata": {},
   "outputs": [],
   "source": [
    "#선형 회귀 linear regression"
   ]
  },
  {
   "cell_type": "code",
   "execution_count": 16,
   "id": "46223063",
   "metadata": {},
   "outputs": [],
   "source": [
    "# 2강 3:40부터"
   ]
  },
  {
   "cell_type": "code",
   "execution_count": null,
   "id": "995f1a71",
   "metadata": {},
   "outputs": [],
   "source": []
  }
 ],
 "metadata": {
  "kernelspec": {
   "display_name": "DHML",
   "language": "python",
   "name": "dhml"
  },
  "language_info": {
   "codemirror_mode": {
    "name": "ipython",
    "version": 3
   },
   "file_extension": ".py",
   "mimetype": "text/x-python",
   "name": "python",
   "nbconvert_exporter": "python",
   "pygments_lexer": "ipython3",
   "version": "3.8.10"
  }
 },
 "nbformat": 4,
 "nbformat_minor": 5
}
