{
 "cells": [
  {
   "cell_type": "code",
   "execution_count": 1,
   "id": "13e8da5d",
   "metadata": {},
   "outputs": [],
   "source": [
    "import numpy as np"
   ]
  },
  {
   "cell_type": "code",
   "execution_count": 2,
   "id": "7f3cd180",
   "metadata": {},
   "outputs": [
    {
     "data": {
      "text/plain": [
       "array([[0., 0., 0., 0., 0., 0., 0., 0., 0., 0.],\n",
       "       [0., 0., 0., 0., 0., 0., 0., 0., 0., 0.],\n",
       "       [0., 0., 0., 0., 0., 0., 0., 0., 0., 0.],\n",
       "       [0., 0., 0., 0., 0., 0., 0., 0., 0., 0.],\n",
       "       [0., 0., 0., 0., 0., 0., 0., 0., 0., 0.],\n",
       "       [0., 0., 0., 0., 0., 0., 0., 0., 0., 0.],\n",
       "       [0., 0., 0., 0., 0., 0., 0., 0., 0., 0.],\n",
       "       [0., 0., 0., 0., 0., 0., 0., 0., 0., 0.],\n",
       "       [0., 0., 0., 0., 0., 0., 0., 0., 0., 0.],\n",
       "       [0., 0., 0., 0., 0., 0., 0., 0., 0., 0.]])"
      ]
     },
     "execution_count": 2,
     "metadata": {},
     "output_type": "execute_result"
    }
   ],
   "source": [
    "a=np.zeros((10,10))\n",
    "a"
   ]
  },
  {
   "cell_type": "code",
   "execution_count": 3,
   "id": "e36e5b92",
   "metadata": {},
   "outputs": [],
   "source": [
    "a=np.array([[[1,2,3,4,5],[6,7,8,9,10],[11,12,13,14,15]],\n",
    "            [[5,6,7,8,9],[12,13,14,15,16],[8,5,4,6,20]]])"
   ]
  },
  {
   "cell_type": "code",
   "execution_count": 4,
   "id": "24525ecd",
   "metadata": {},
   "outputs": [
    {
     "data": {
      "text/plain": [
       "array([[[ 1,  2,  3,  4,  5],\n",
       "        [ 6,  7,  8,  9, 10],\n",
       "        [11, 12, 13, 14, 15]],\n",
       "\n",
       "       [[ 5,  6,  7,  8,  9],\n",
       "        [12, 13, 14, 15, 16],\n",
       "        [ 8,  5,  4,  6, 20]]])"
      ]
     },
     "execution_count": 4,
     "metadata": {},
     "output_type": "execute_result"
    }
   ],
   "source": [
    "a"
   ]
  },
  {
   "cell_type": "code",
   "execution_count": 5,
   "id": "10a15366",
   "metadata": {},
   "outputs": [
    {
     "data": {
      "text/plain": [
       "6"
      ]
     },
     "execution_count": 5,
     "metadata": {},
     "output_type": "execute_result"
    }
   ],
   "source": [
    "a[1,2,3]"
   ]
  },
  {
   "cell_type": "code",
   "execution_count": 6,
   "id": "7e02ab10",
   "metadata": {},
   "outputs": [
    {
     "data": {
      "text/plain": [
       "(2, 3, 5)"
      ]
     },
     "execution_count": 6,
     "metadata": {},
     "output_type": "execute_result"
    }
   ],
   "source": [
    "a.shape"
   ]
  },
  {
   "cell_type": "code",
   "execution_count": 7,
   "id": "71773b53",
   "metadata": {},
   "outputs": [
    {
     "data": {
      "text/plain": [
       "array([[12.5, 12.5, 12.5],\n",
       "       [12.5, 12.5, 12.5],\n",
       "       [12.5, 12.5, 12.5]])"
      ]
     },
     "execution_count": 7,
     "metadata": {},
     "output_type": "execute_result"
    }
   ],
   "source": [
    "np.full((3,3),12.5)"
   ]
  },
  {
   "cell_type": "code",
   "execution_count": 8,
   "id": "01157d0b",
   "metadata": {},
   "outputs": [
    {
     "data": {
      "text/plain": [
       "array([[1., 1., 1.],\n",
       "       [1., 1., 1.],\n",
       "       [1., 1., 1.],\n",
       "       [1., 1., 1.]])"
      ]
     },
     "execution_count": 8,
     "metadata": {},
     "output_type": "execute_result"
    }
   ],
   "source": [
    "np.ones((4,3))"
   ]
  },
  {
   "cell_type": "code",
   "execution_count": 9,
   "id": "da038984",
   "metadata": {},
   "outputs": [
    {
     "data": {
      "text/plain": [
       "array([[1., 0., 0., 0., 0., 0.],\n",
       "       [0., 1., 0., 0., 0., 0.],\n",
       "       [0., 0., 1., 0., 0., 0.],\n",
       "       [0., 0., 0., 1., 0., 0.],\n",
       "       [0., 0., 0., 0., 1., 0.],\n",
       "       [0., 0., 0., 0., 0., 1.]])"
      ]
     },
     "execution_count": 9,
     "metadata": {},
     "output_type": "execute_result"
    }
   ],
   "source": [
    "np.eye(6)"
   ]
  },
  {
   "cell_type": "code",
   "execution_count": 10,
   "id": "7264be1d",
   "metadata": {},
   "outputs": [],
   "source": [
    "e=np.empty(5)"
   ]
  },
  {
   "cell_type": "code",
   "execution_count": 11,
   "id": "30d9e361",
   "metadata": {},
   "outputs": [
    {
     "data": {
      "text/plain": [
       "array([2.12199579e-314, 2.33647015e-307, 6.40309077e-321, 4.37131133e-312,\n",
       "       5.56296645e-307])"
      ]
     },
     "execution_count": 11,
     "metadata": {},
     "output_type": "execute_result"
    }
   ],
   "source": [
    "e"
   ]
  },
  {
   "cell_type": "code",
   "execution_count": 12,
   "id": "cb69ce23",
   "metadata": {},
   "outputs": [],
   "source": [
    "data=np.random.randn(3,2)"
   ]
  },
  {
   "cell_type": "code",
   "execution_count": 13,
   "id": "a4a54111",
   "metadata": {},
   "outputs": [
    {
     "data": {
      "text/plain": [
       "array([[-0.54797091,  0.69818467],\n",
       "       [ 0.04578873,  0.21903599],\n",
       "       [-0.85034891, -1.56596252]])"
      ]
     },
     "execution_count": 13,
     "metadata": {},
     "output_type": "execute_result"
    }
   ],
   "source": [
    "data"
   ]
  },
  {
   "cell_type": "code",
   "execution_count": 14,
   "id": "d7b2ccf5",
   "metadata": {},
   "outputs": [],
   "source": [
    "w=np.zeros([2,3])"
   ]
  },
  {
   "cell_type": "code",
   "execution_count": 15,
   "id": "577c6f3e",
   "metadata": {},
   "outputs": [
    {
     "data": {
      "text/plain": [
       "array([[0., 0., 0.],\n",
       "       [0., 0., 0.]])"
      ]
     },
     "execution_count": 15,
     "metadata": {},
     "output_type": "execute_result"
    }
   ],
   "source": [
    "w"
   ]
  },
  {
   "cell_type": "code",
   "execution_count": 16,
   "id": "1205cc7e",
   "metadata": {},
   "outputs": [],
   "source": [
    "w[1,1]=11"
   ]
  },
  {
   "cell_type": "code",
   "execution_count": 17,
   "id": "62134d6c",
   "metadata": {},
   "outputs": [
    {
     "data": {
      "text/plain": [
       "array([[ 0.,  0.,  0.],\n",
       "       [ 0., 11.,  0.]])"
      ]
     },
     "execution_count": 17,
     "metadata": {},
     "output_type": "execute_result"
    }
   ],
   "source": [
    "w"
   ]
  },
  {
   "cell_type": "code",
   "execution_count": 18,
   "id": "aba3dc29",
   "metadata": {},
   "outputs": [
    {
     "data": {
      "text/plain": [
       "array([[ 0.,  0.,  0.],\n",
       "       [ 0., 11.,  0.]])"
      ]
     },
     "execution_count": 18,
     "metadata": {},
     "output_type": "execute_result"
    }
   ],
   "source": [
    "q=np.empty([2,3])\n",
    "q"
   ]
  },
  {
   "cell_type": "code",
   "execution_count": 19,
   "id": "2e48146d",
   "metadata": {},
   "outputs": [],
   "source": [
    "import numpy as np"
   ]
  },
  {
   "cell_type": "code",
   "execution_count": 20,
   "id": "0add12fa",
   "metadata": {},
   "outputs": [
    {
     "data": {
      "text/plain": [
       "array([3, 7])"
      ]
     },
     "execution_count": 20,
     "metadata": {},
     "output_type": "execute_result"
    }
   ],
   "source": [
    "np.arange(3,10,4)"
   ]
  },
  {
   "cell_type": "code",
   "execution_count": 21,
   "id": "5c8937fd",
   "metadata": {},
   "outputs": [],
   "source": [
    "a=np.linspace(3,100,34)"
   ]
  },
  {
   "cell_type": "code",
   "execution_count": 22,
   "id": "4c1cf220",
   "metadata": {},
   "outputs": [
    {
     "data": {
      "text/plain": [
       "array([[0.85004167, 0.47188349, 0.27836374],\n",
       "       [0.60910842, 0.38866672, 0.54016835],\n",
       "       [0.66860932, 0.7915321 , 0.43306566]])"
      ]
     },
     "execution_count": 22,
     "metadata": {},
     "output_type": "execute_result"
    }
   ],
   "source": [
    "np.random.random((3,3))"
   ]
  },
  {
   "cell_type": "code",
   "execution_count": 23,
   "id": "187a8c45",
   "metadata": {},
   "outputs": [
    {
     "data": {
      "text/plain": [
       "array([[7, 1, 4, 6],\n",
       "       [1, 0, 0, 8],\n",
       "       [0, 0, 2, 7]])"
      ]
     },
     "execution_count": 23,
     "metadata": {},
     "output_type": "execute_result"
    }
   ],
   "source": [
    "np.random.randint(0,10,(3,4))"
   ]
  },
  {
   "cell_type": "code",
   "execution_count": 24,
   "id": "0b8f9fcb",
   "metadata": {},
   "outputs": [
    {
     "data": {
      "text/plain": [
       "array([[-1.81445505, -1.3086457 ,  0.26068624,  0.78221008],\n",
       "       [ 0.07242152, -0.07510151,  0.79969533,  1.67485462],\n",
       "       [ 0.32026024, -0.76061646,  1.08763648,  1.27745695]])"
      ]
     },
     "execution_count": 24,
     "metadata": {},
     "output_type": "execute_result"
    }
   ],
   "source": [
    "np.random.randn(3,4)"
   ]
  },
  {
   "cell_type": "code",
   "execution_count": 25,
   "id": "1611b56e",
   "metadata": {},
   "outputs": [],
   "source": [
    "data=np.array('2022-12-07',dtype=np.datetime64)"
   ]
  },
  {
   "cell_type": "code",
   "execution_count": 26,
   "id": "5e44610e",
   "metadata": {},
   "outputs": [
    {
     "data": {
      "text/plain": [
       "array('2022-12-07', dtype='datetime64[D]')"
      ]
     },
     "execution_count": 26,
     "metadata": {},
     "output_type": "execute_result"
    }
   ],
   "source": [
    "data"
   ]
  },
  {
   "cell_type": "code",
   "execution_count": 27,
   "id": "164af175",
   "metadata": {},
   "outputs": [],
   "source": [
    "def info(array):\n",
    "    print(array)\n",
    "    print(\"ndim: \", array.ndim)\n",
    "    print(\"shape: \", array.shape)\n",
    "    print(\"dtype: \", array.dtype)\n",
    "    print(\"size: \", array.size)\n",
    "    print(\"itemsize: \", array.itemsize)\n",
    "    print(\"nbytes: \", array.nbytes)\n",
    "    print(\"strides: \", array.strides)"
   ]
  },
  {
   "cell_type": "code",
   "execution_count": 28,
   "id": "96161ae3",
   "metadata": {},
   "outputs": [
    {
     "name": "stdout",
     "output_type": "stream",
     "text": [
      "[  3.           5.93939394   8.87878788  11.81818182  14.75757576\n",
      "  17.6969697   20.63636364  23.57575758  26.51515152  29.45454545\n",
      "  32.39393939  35.33333333  38.27272727  41.21212121  44.15151515\n",
      "  47.09090909  50.03030303  52.96969697  55.90909091  58.84848485\n",
      "  61.78787879  64.72727273  67.66666667  70.60606061  73.54545455\n",
      "  76.48484848  79.42424242  82.36363636  85.3030303   88.24242424\n",
      "  91.18181818  94.12121212  97.06060606 100.        ]\n",
      "ndim:  1\n",
      "shape:  (34,)\n",
      "dtype:  float64\n",
      "size:  34\n",
      "itemsize:  8\n",
      "nbytes:  272\n",
      "strides:  (8,)\n"
     ]
    }
   ],
   "source": [
    "info(a)"
   ]
  },
  {
   "cell_type": "code",
   "execution_count": null,
   "id": "2c29c8df",
   "metadata": {},
   "outputs": [],
   "source": []
  },
  {
   "cell_type": "code",
   "execution_count": null,
   "id": "06d437d2",
   "metadata": {},
   "outputs": [],
   "source": []
  },
  {
   "cell_type": "code",
   "execution_count": null,
   "id": "920f6728",
   "metadata": {},
   "outputs": [],
   "source": []
  },
  {
   "cell_type": "code",
   "execution_count": null,
   "id": "e226b398",
   "metadata": {},
   "outputs": [],
   "source": []
  },
  {
   "cell_type": "code",
   "execution_count": null,
   "id": "375ea513",
   "metadata": {},
   "outputs": [],
   "source": []
  },
  {
   "cell_type": "code",
   "execution_count": null,
   "id": "7a7fb8d9",
   "metadata": {},
   "outputs": [],
   "source": []
  },
  {
   "cell_type": "code",
   "execution_count": null,
   "id": "4450336e",
   "metadata": {},
   "outputs": [],
   "source": []
  },
  {
   "cell_type": "code",
   "execution_count": null,
   "id": "7a407d11",
   "metadata": {},
   "outputs": [],
   "source": []
  },
  {
   "cell_type": "code",
   "execution_count": null,
   "id": "b8d5ee59",
   "metadata": {},
   "outputs": [],
   "source": []
  },
  {
   "cell_type": "code",
   "execution_count": null,
   "id": "4132f4f9",
   "metadata": {},
   "outputs": [],
   "source": []
  },
  {
   "cell_type": "code",
   "execution_count": null,
   "id": "82ae003b",
   "metadata": {},
   "outputs": [],
   "source": []
  },
  {
   "cell_type": "code",
   "execution_count": null,
   "id": "5ecb7685",
   "metadata": {},
   "outputs": [],
   "source": []
  },
  {
   "cell_type": "code",
   "execution_count": null,
   "id": "27cfbd90",
   "metadata": {},
   "outputs": [],
   "source": []
  }
 ],
 "metadata": {
  "kernelspec": {
   "display_name": "Python 3 (ipykernel)",
   "language": "python",
   "name": "python3"
  },
  "language_info": {
   "codemirror_mode": {
    "name": "ipython",
    "version": 3
   },
   "file_extension": ".py",
   "mimetype": "text/x-python",
   "name": "python",
   "nbconvert_exporter": "python",
   "pygments_lexer": "ipython3",
   "version": "3.9.13"
  }
 },
 "nbformat": 4,
 "nbformat_minor": 5
}
