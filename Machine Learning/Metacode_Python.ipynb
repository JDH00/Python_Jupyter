{
 "cells": [
  {
   "cell_type": "code",
   "execution_count": null,
   "id": "2aea5c03",
   "metadata": {},
   "outputs": [],
   "source": []
  },
  {
   "cell_type": "code",
   "execution_count": 22,
   "id": "798bf090",
   "metadata": {
    "scrolled": true
   },
   "outputs": [
    {
     "name": "stdout",
     "output_type": "stream",
     "text": [
      "안알랴줌의 이메일 주소는 IDontKnow@gmail.com 입니다.\n"
     ]
    }
   ],
   "source": [
    "name='안알랴줌'\n",
    "email='IDontKnow@gmail.com'\n",
    "print('{}의 이메일 주소는 {} 입니다.'.format(name,email))"
   ]
  },
  {
   "cell_type": "code",
   "execution_count": null,
   "id": "ae84bf0a",
   "metadata": {},
   "outputs": [],
   "source": []
  },
  {
   "cell_type": "code",
   "execution_count": 15,
   "id": "8eae1059",
   "metadata": {},
   "outputs": [
    {
     "name": "stdout",
     "output_type": "stream",
     "text": [
      "['안녕하세요', '제', '이름은', '안알랴줌', '입니다']\n"
     ]
    }
   ],
   "source": [
    "# split('x'): x로 쪼갬 -> list\n",
    "s='안녕하세요 제 이름은 안알랴줌 입니다'\n",
    "result=s.split(' ')\n",
    "print(result)"
   ]
  },
  {
   "cell_type": "code",
   "execution_count": null,
   "id": "4278f85a",
   "metadata": {},
   "outputs": [],
   "source": []
  },
  {
   "cell_type": "code",
   "execution_count": 17,
   "id": "fb12533c",
   "metadata": {},
   "outputs": [
    {
     "name": "stdout",
     "output_type": "stream",
     "text": [
      "안녕하세요 제 이름은 안알랴줌 입니다\n"
     ]
    }
   ],
   "source": [
    "# 'x'.join(result) -> result를 x로 join해라\n",
    "result2=' '.join(result)\n",
    "print(result2)"
   ]
  },
  {
   "cell_type": "code",
   "execution_count": null,
   "id": "752493a5",
   "metadata": {},
   "outputs": [],
   "source": []
  },
  {
   "cell_type": "code",
   "execution_count": 23,
   "id": "3f46d93a",
   "metadata": {},
   "outputs": [
    {
     "name": "stdout",
     "output_type": "stream",
     "text": [
      "IDONTKNOW@GMAIL.COM\n",
      "idontknow@gmail.com\n",
      "Idontknow@gmail.com\n"
     ]
    }
   ],
   "source": [
    "email2=email.upper()\n",
    "email3=email.lower()\n",
    "email4=email.capitalize()\n",
    "print(email2)\n",
    "print(email3)\n",
    "print(email4)"
   ]
  },
  {
   "cell_type": "code",
   "execution_count": null,
   "id": "f2a5c1c6",
   "metadata": {},
   "outputs": [],
   "source": []
  }
 ],
 "metadata": {
  "kernelspec": {
   "display_name": "Python 3",
   "language": "python",
   "name": "python3"
  },
  "language_info": {
   "codemirror_mode": {
    "name": "ipython",
    "version": 3
   },
   "file_extension": ".py",
   "mimetype": "text/x-python",
   "name": "python",
   "nbconvert_exporter": "python",
   "pygments_lexer": "ipython3",
   "version": "3.8.10"
  }
 },
 "nbformat": 4,
 "nbformat_minor": 5
}
