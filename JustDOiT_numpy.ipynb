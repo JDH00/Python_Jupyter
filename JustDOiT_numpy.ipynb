{
 "cells": [
  {
   "cell_type": "code",
   "execution_count": 1,
   "id": "13e8da5d",
   "metadata": {},
   "outputs": [],
   "source": [
    "import numpy as np"
   ]
  },
  {
   "cell_type": "code",
   "execution_count": 50,
   "id": "7f3cd180",
   "metadata": {},
   "outputs": [
    {
     "data": {
      "text/plain": [
       "array([[0., 0., 0., 0., 0., 0., 0., 0., 0., 0.],\n",
       "       [0., 0., 0., 0., 0., 0., 0., 0., 0., 0.],\n",
       "       [0., 0., 0., 0., 0., 0., 0., 0., 0., 0.],\n",
       "       [0., 0., 0., 0., 0., 0., 0., 0., 0., 0.],\n",
       "       [0., 0., 0., 0., 0., 0., 0., 0., 0., 0.],\n",
       "       [0., 0., 0., 0., 0., 0., 0., 0., 0., 0.],\n",
       "       [0., 0., 0., 0., 0., 0., 0., 0., 0., 0.],\n",
       "       [0., 0., 0., 0., 0., 0., 0., 0., 0., 0.],\n",
       "       [0., 0., 0., 0., 0., 0., 0., 0., 0., 0.],\n",
       "       [0., 0., 0., 0., 0., 0., 0., 0., 0., 0.]])"
      ]
     },
     "execution_count": 50,
     "metadata": {},
     "output_type": "execute_result"
    }
   ],
   "source": [
    "a=np.zeros((10,10))\n",
    "a"
   ]
  },
  {
   "cell_type": "code",
   "execution_count": 51,
   "id": "e36e5b92",
   "metadata": {},
   "outputs": [],
   "source": [
    "a=np.array([[[1,2,3,4,5],[6,7,8,9,10],[11,12,13,14,15]],\n",
    "            [[5,6,7,8,9],[12,13,14,15,16],[8,5,4,6,20]]])"
   ]
  },
  {
   "cell_type": "code",
   "execution_count": 52,
   "id": "24525ecd",
   "metadata": {},
   "outputs": [
    {
     "data": {
      "text/plain": [
       "array([[[ 1,  2,  3,  4,  5],\n",
       "        [ 6,  7,  8,  9, 10],\n",
       "        [11, 12, 13, 14, 15]],\n",
       "\n",
       "       [[ 5,  6,  7,  8,  9],\n",
       "        [12, 13, 14, 15, 16],\n",
       "        [ 8,  5,  4,  6, 20]]])"
      ]
     },
     "execution_count": 52,
     "metadata": {},
     "output_type": "execute_result"
    }
   ],
   "source": [
    "a"
   ]
  },
  {
   "cell_type": "code",
   "execution_count": 36,
   "id": "10a15366",
   "metadata": {},
   "outputs": [
    {
     "data": {
      "text/plain": [
       "6"
      ]
     },
     "execution_count": 36,
     "metadata": {},
     "output_type": "execute_result"
    }
   ],
   "source": [
    "a[1,2,3]"
   ]
  },
  {
   "cell_type": "code",
   "execution_count": 38,
   "id": "7e02ab10",
   "metadata": {},
   "outputs": [
    {
     "data": {
      "text/plain": [
       "(2, 3, 5)"
      ]
     },
     "execution_count": 38,
     "metadata": {},
     "output_type": "execute_result"
    }
   ],
   "source": [
    "a.shape"
   ]
  },
  {
   "cell_type": "code",
   "execution_count": 40,
   "id": "71773b53",
   "metadata": {},
   "outputs": [
    {
     "data": {
      "text/plain": [
       "array([[12.5, 12.5, 12.5],\n",
       "       [12.5, 12.5, 12.5],\n",
       "       [12.5, 12.5, 12.5]])"
      ]
     },
     "execution_count": 40,
     "metadata": {},
     "output_type": "execute_result"
    }
   ],
   "source": [
    "np.full((3,3),12.5)"
   ]
  },
  {
   "cell_type": "code",
   "execution_count": 42,
   "id": "01157d0b",
   "metadata": {},
   "outputs": [
    {
     "data": {
      "text/plain": [
       "array([[1., 1., 1.],\n",
       "       [1., 1., 1.],\n",
       "       [1., 1., 1.],\n",
       "       [1., 1., 1.]])"
      ]
     },
     "execution_count": 42,
     "metadata": {},
     "output_type": "execute_result"
    }
   ],
   "source": [
    "np.ones((4,3))"
   ]
  },
  {
   "cell_type": "code",
   "execution_count": 45,
   "id": "da038984",
   "metadata": {},
   "outputs": [
    {
     "data": {
      "text/plain": [
       "array([[1., 0., 0., 0., 0., 0.],\n",
       "       [0., 1., 0., 0., 0., 0.],\n",
       "       [0., 0., 1., 0., 0., 0.],\n",
       "       [0., 0., 0., 1., 0., 0.],\n",
       "       [0., 0., 0., 0., 1., 0.],\n",
       "       [0., 0., 0., 0., 0., 1.]])"
      ]
     },
     "execution_count": 45,
     "metadata": {},
     "output_type": "execute_result"
    }
   ],
   "source": [
    "np.eye(6)"
   ]
  },
  {
   "cell_type": "code",
   "execution_count": 56,
   "id": "7264be1d",
   "metadata": {},
   "outputs": [],
   "source": [
    "e=np.empty(5)"
   ]
  },
  {
   "cell_type": "code",
   "execution_count": 57,
   "id": "30d9e361",
   "metadata": {},
   "outputs": [
    {
     "data": {
      "text/plain": [
       "array([2.12199579e-314, 2.67020407e-307, 3.93276254e-321, 8.27578359e-312,\n",
       "       6.23040373e-307])"
      ]
     },
     "execution_count": 57,
     "metadata": {},
     "output_type": "execute_result"
    }
   ],
   "source": [
    "e"
   ]
  },
  {
   "cell_type": "code",
   "execution_count": 47,
   "id": "cb69ce23",
   "metadata": {},
   "outputs": [],
   "source": [
    "data=np.random.randn(3,2)"
   ]
  },
  {
   "cell_type": "code",
   "execution_count": 48,
   "id": "a4a54111",
   "metadata": {},
   "outputs": [
    {
     "data": {
      "text/plain": [
       "array([[ 0.85113261,  0.3195698 ],\n",
       "       [ 0.20904457, -0.70208585],\n",
       "       [ 1.14857698,  0.31579658]])"
      ]
     },
     "execution_count": 48,
     "metadata": {},
     "output_type": "execute_result"
    }
   ],
   "source": [
    "data"
   ]
  },
  {
   "cell_type": "code",
   "execution_count": 82,
   "id": "d7b2ccf5",
   "metadata": {},
   "outputs": [],
   "source": [
    "w=np.zeros([2,3])"
   ]
  },
  {
   "cell_type": "code",
   "execution_count": 83,
   "id": "577c6f3e",
   "metadata": {},
   "outputs": [
    {
     "data": {
      "text/plain": [
       "array([[0., 0., 0.],\n",
       "       [0., 0., 0.]])"
      ]
     },
     "execution_count": 83,
     "metadata": {},
     "output_type": "execute_result"
    }
   ],
   "source": [
    "w"
   ]
  },
  {
   "cell_type": "code",
   "execution_count": 84,
   "id": "1205cc7e",
   "metadata": {},
   "outputs": [],
   "source": [
    "w[1,1]=11"
   ]
  },
  {
   "cell_type": "code",
   "execution_count": 85,
   "id": "62134d6c",
   "metadata": {},
   "outputs": [
    {
     "data": {
      "text/plain": [
       "array([[ 0.,  0.,  0.],\n",
       "       [ 0., 11.,  0.]])"
      ]
     },
     "execution_count": 85,
     "metadata": {},
     "output_type": "execute_result"
    }
   ],
   "source": [
    "w"
   ]
  },
  {
   "cell_type": "code",
   "execution_count": 86,
   "id": "aba3dc29",
   "metadata": {},
   "outputs": [
    {
     "data": {
      "text/plain": [
       "array([[ 0.,  0.,  0.],\n",
       "       [ 0., 11.,  0.]])"
      ]
     },
     "execution_count": 86,
     "metadata": {},
     "output_type": "execute_result"
    }
   ],
   "source": [
    "q=np.empty([2,3])\n",
    "q"
   ]
  },
  {
   "cell_type": "code",
   "execution_count": 1,
   "id": "2e48146d",
   "metadata": {},
   "outputs": [],
   "source": [
    "import numpy as np"
   ]
  },
  {
   "cell_type": "code",
   "execution_count": 3,
   "id": "0add12fa",
   "metadata": {},
   "outputs": [
    {
     "data": {
      "text/plain": [
       "array([3, 7])"
      ]
     },
     "execution_count": 3,
     "metadata": {},
     "output_type": "execute_result"
    }
   ],
   "source": [
    "np.arange(3,10,4)"
   ]
  },
  {
   "cell_type": "code",
   "execution_count": 6,
   "id": "5c8937fd",
   "metadata": {},
   "outputs": [],
   "source": [
    "a=np.linspace(3,100,34)"
   ]
  },
  {
   "cell_type": "code",
   "execution_count": 19,
   "id": "4c1cf220",
   "metadata": {},
   "outputs": [
    {
     "data": {
      "text/plain": [
       "array([[0.07009031, 0.93713036, 0.33606377],\n",
       "       [0.80124468, 0.20404465, 0.18619144],\n",
       "       [0.03245024, 0.58706225, 0.41309769]])"
      ]
     },
     "execution_count": 19,
     "metadata": {},
     "output_type": "execute_result"
    }
   ],
   "source": [
    "np.random.random((3,3))"
   ]
  },
  {
   "cell_type": "code",
   "execution_count": 20,
   "id": "187a8c45",
   "metadata": {},
   "outputs": [
    {
     "data": {
      "text/plain": [
       "array([[2, 1, 3, 2],\n",
       "       [5, 9, 0, 5],\n",
       "       [0, 0, 8, 6]])"
      ]
     },
     "execution_count": 20,
     "metadata": {},
     "output_type": "execute_result"
    }
   ],
   "source": [
    "np.random.randint(0,10,(3,4))"
   ]
  },
  {
   "cell_type": "code",
   "execution_count": 21,
   "id": "0b8f9fcb",
   "metadata": {},
   "outputs": [
    {
     "data": {
      "text/plain": [
       "array([[-0.7048123 , -0.31253881,  1.61190096, -1.06810378],\n",
       "       [-0.05984685, -1.24181058,  0.55949077, -2.21245686],\n",
       "       [-1.10402064, -0.15927966,  0.57455023,  0.31770818]])"
      ]
     },
     "execution_count": 21,
     "metadata": {},
     "output_type": "execute_result"
    }
   ],
   "source": [
    "np.random.randn(3,4)"
   ]
  },
  {
   "cell_type": "code",
   "execution_count": 23,
   "id": "1611b56e",
   "metadata": {},
   "outputs": [],
   "source": [
    "data=np.array('2022-12-07',dtype=np.datetime64)"
   ]
  },
  {
   "cell_type": "code",
   "execution_count": 24,
   "id": "5e44610e",
   "metadata": {},
   "outputs": [
    {
     "data": {
      "text/plain": [
       "array('2022-12-07', dtype='datetime64[D]')"
      ]
     },
     "execution_count": 24,
     "metadata": {},
     "output_type": "execute_result"
    }
   ],
   "source": [
    "data"
   ]
  },
  {
   "cell_type": "code",
   "execution_count": 28,
   "id": "164af175",
   "metadata": {},
   "outputs": [],
   "source": [
    "def info(array):\n",
    "    print(array)\n",
    "    print(\"ndim: \", array.ndim)\n",
    "    print(\"shape: \", array.shape)\n",
    "    print(\"dtype: \", array.dtype)\n",
    "    print(\"size: \", array.size)\n",
    "    print(\"itemsize: \", array.itemsize)\n",
    "    print(\"nbytes: \", array.nbytes)\n",
    "    print(\"strides: \", array.strides)"
   ]
  },
  {
   "cell_type": "code",
   "execution_count": 29,
   "id": "96161ae3",
   "metadata": {},
   "outputs": [
    {
     "name": "stdout",
     "output_type": "stream",
     "text": [
      "[  3.           5.93939394   8.87878788  11.81818182  14.75757576\n",
      "  17.6969697   20.63636364  23.57575758  26.51515152  29.45454545\n",
      "  32.39393939  35.33333333  38.27272727  41.21212121  44.15151515\n",
      "  47.09090909  50.03030303  52.96969697  55.90909091  58.84848485\n",
      "  61.78787879  64.72727273  67.66666667  70.60606061  73.54545455\n",
      "  76.48484848  79.42424242  82.36363636  85.3030303   88.24242424\n",
      "  91.18181818  94.12121212  97.06060606 100.        ]\n",
      "ndim:  1\n",
      "shape:  (34,)\n",
      "dtype:  float64\n",
      "size:  34\n",
      "itemsize:  8\n",
      "nbytes:  272\n",
      "strides:  (8,)\n"
     ]
    }
   ],
   "source": [
    "info(a)"
   ]
  },
  {
   "cell_type": "code",
   "execution_count": null,
   "id": "9095ae2c",
   "metadata": {},
   "outputs": [],
   "source": []
  }
 ],
 "metadata": {
  "kernelspec": {
   "display_name": "Python 3",
   "language": "python",
   "name": "python3"
  },
  "language_info": {
   "codemirror_mode": {
    "name": "ipython",
    "version": 3
   },
   "file_extension": ".py",
   "mimetype": "text/x-python",
   "name": "python",
   "nbconvert_exporter": "python",
   "pygments_lexer": "ipython3",
   "version": "3.8.10"
  }
 },
 "nbformat": 4,
 "nbformat_minor": 5
}
