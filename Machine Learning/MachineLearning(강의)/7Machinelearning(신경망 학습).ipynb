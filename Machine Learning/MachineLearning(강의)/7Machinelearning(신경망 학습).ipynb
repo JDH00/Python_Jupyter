{
 "cells": [
  {
   "cell_type": "markdown",
   "id": "68863e83",
   "metadata": {},
   "source": [
    "## 신경망 학습"
   ]
  },
  {
   "cell_type": "markdown",
   "id": "2d6d09c0",
   "metadata": {},
   "source": [
    "## 단순한 신경망 구현: Logic Gate"
   ]
  },
  {
   "cell_type": "markdown",
   "id": "415cc016",
   "metadata": {},
   "source": [
    "### 필요한 모듈 import"
   ]
  },
  {
   "cell_type": "code",
   "execution_count": 3,
   "id": "2f37d2d8",
   "metadata": {},
   "outputs": [
    {
     "name": "stderr",
     "output_type": "stream",
     "text": [
      "C:\\Users\\coding\\AppData\\Local\\Temp\\ipykernel_27308\\1334896370.py:3: MatplotlibDeprecationWarning: The seaborn styles shipped by Matplotlib are deprecated since 3.6, as they no longer correspond to the styles shipped by seaborn. However, they will remain available as 'seaborn-v0_8-<style>'. Alternatively, directly use the seaborn API instead.\n",
      "  plt.style.use('seaborn-whitegrid')\n"
     ]
    }
   ],
   "source": [
    "import numpy as np\n",
    "import matplotlib.pyplot as plt\n",
    "plt.style.use('seaborn-whitegrid')"
   ]
  },
  {
   "cell_type": "markdown",
   "id": "735860d4",
   "metadata": {},
   "source": [
    "### 하이퍼 파라미터(Hyper Parameter)"
   ]
  },
  {
   "cell_type": "code",
   "execution_count": 4,
   "id": "3be217c9",
   "metadata": {},
   "outputs": [],
   "source": [
    "epochs = 1000\n",
    "lr = 0.1#learning rate"
   ]
  },
  {
   "cell_type": "markdown",
   "id": "10773dd8",
   "metadata": {},
   "source": [
    "### 유틸 함수들(Utill Function)"
   ]
  },
  {
   "cell_type": "code",
   "execution_count": 30,
   "id": "77dcee00",
   "metadata": {},
   "outputs": [],
   "source": [
    "def sigmoid(x):\n",
    "    return 1 / (1+np.exp(-x))\n",
    "\n",
    "def mean_squared_error(pred_y, true_y):\n",
    "    return np.mean(np.sum(np.square(true_y-pred_y)))\n",
    "\n",
    "def cross_entropy_error(pred_y, true_y):\n",
    "    if true_y.dim == 1:\n",
    "        true_y = true_y.reshape(1,-1)\n",
    "        pred_y = pred_y.reshape(1,-1)\n",
    "        \n",
    "    delta = 1e-7\n",
    "    return -np.sum(true_y * np.log(pred_y + delta))\n",
    "\n",
    "def cross_entropy_error_for_batch(pred_y, true_y):\n",
    "    if true_y.dim == 1:\n",
    "        true_y = true_y.reshape(1,-1)\n",
    "        pred_y = pred_y.reshape(1,-1)\n",
    "        \n",
    "    delta = 1e-7\n",
    "    batch_size = pred_y.shape[0]\n",
    "    return -np.sum(true_y * np.log(pred_y + delta)) / batch_size\n",
    "\n",
    "def cross_entropy_error_for_bin(pred_y, true_y):\n",
    "    return 0.5 * np.sum((-true_y * np.log(pred_y) - (1 - true_y) * np.log(1 - pred_y)))\n",
    "\n",
    "def softmax(a):\n",
    "    exp_a = np.exp(a)\n",
    "    sum_exp_a = np.sum(exp_a)\n",
    "    y = exp_a / sum_exp_a\n",
    "    \n",
    "    return y\n",
    "\n",
    "def differential(f,x):\n",
    "    eps = 1e-5\n",
    "    diff_value = np.zeros_like(x)\n",
    "    \n",
    "    for i in range(x.shape[0]):\n",
    "        temp_val = x[i]\n",
    "        \n",
    "        x[i] = temp_val + eps\n",
    "        f_h1 = f(x)\n",
    "        \n",
    "        x[i] = temp_val - eps\n",
    "        f_h2 = f(x)\n",
    "        \n",
    "        diff_value[i] = (f_h1 - f_h2) / (2*eps)\n",
    "        x[i] = temp_val\n",
    "        \n",
    "    return diff_value"
   ]
  },
  {
   "cell_type": "markdown",
   "id": "2162b5a9",
   "metadata": {},
   "source": [
    "### 신경망"
   ]
  },
  {
   "cell_type": "code",
   "execution_count": 6,
   "id": "a157cf7d",
   "metadata": {},
   "outputs": [],
   "source": [
    "class LogicGateNet():\n",
    "    \n",
    "    def __init__(self):\n",
    "        def weight_init():\n",
    "            np.random.seed(1)\n",
    "            weights = np.random.randn(2)\n",
    "            bias = np.random.rand(1)\n",
    "            \n",
    "            return weights, bias\n",
    "        \n",
    "        self.weights, self.bias = weight_init()\n",
    "    \n",
    "    def predict(self,x):\n",
    "        W = self.weights.reshape(-1,1)\n",
    "        b = self.bias\n",
    "        \n",
    "        pred_y = sigmoid(np.dot(x,W) + b)\n",
    "        return pred_y\n",
    "    \n",
    "    def loss(self, x, true_y):\n",
    "        pred_y = self.predict(x)\n",
    "        return cross_entropy_error_for_bin(pred_y, true_y)\n",
    "    \n",
    "    def get_gradient(self,x,t):\n",
    "        def loss_grad(grad):\n",
    "            return self.loss(x,t)\n",
    "        \n",
    "        grad_W = differential(loss_grad, self.weights)\n",
    "        grad_B = differential(loss_grad, self.bias)\n",
    "        \n",
    "        return grad_W, grad_B"
   ]
  },
  {
   "cell_type": "markdown",
   "id": "66934fc8",
   "metadata": {},
   "source": [
    "### AND Gate"
   ]
  },
  {
   "cell_type": "markdown",
   "id": "804eefa5",
   "metadata": {},
   "source": [
    "### 모델 생성 및 학습"
   ]
  },
  {
   "cell_type": "code",
   "execution_count": 7,
   "id": "dd87433a",
   "metadata": {},
   "outputs": [
    {
     "name": "stdout",
     "output_type": "stream",
     "text": [
      "Epoch: 100, Cost: 0.6886489498071491, Weights: [1.56426876 0.79168393], Bias: [-2.14871589]\n",
      "Epoch: 200, Cost: 0.4946368603064415, Weights: [2.01360719 1.71241131], Bias: [-3.07894028]\n",
      "Epoch: 300, Cost: 0.3920165980757418, Weights: [2.42841657 2.29753793], Bias: [-3.79103207]\n",
      "Epoch: 400, Cost: 0.3257214374791936, Weights: [2.794852   2.73235738], Bias: [-4.37257095]\n",
      "Epoch: 500, Cost: 0.27863601334755067, Weights: [3.11636193 3.08408364], Bias: [-4.86571237]\n",
      "Epoch: 600, Cost: 0.24328504683831248, Weights: [3.40015395 3.38235762], Bias: [-5.29433736]\n",
      "Epoch: 700, Cost: 0.21572536552468008, Weights: [3.65300561 3.64264217], Bias: [-5.67349792]\n",
      "Epoch: 800, Cost: 0.19363244428365756, Weights: [3.88044124 3.87412053], Bias: [-6.01340133]\n",
      "Epoch: 900, Cost: 0.1755321312790001, Weights: [4.08680123 4.08279091], Bias: [-6.32133891]\n",
      "Epoch: 1000, Cost: 0.1604392693330146, Weights: [4.27548114 4.27284863], Bias: [-6.6027234]\n"
     ]
    }
   ],
   "source": [
    "AND = LogicGateNet()\n",
    "\n",
    "X = np.array([[0,0],[0,1],[1,0],[1,1]])\n",
    "Y = np.array([[0],[0],[0],[1]])\n",
    "\n",
    "train_loss_list = list()\n",
    "\n",
    "for i in range(epochs):\n",
    "    grad_W, grad_B = AND.get_gradient(X,Y)\n",
    "    \n",
    "    AND.weights -= lr*grad_W\n",
    "    AND.bias -= lr*grad_B\n",
    "    \n",
    "    loss = AND.loss(X,Y)\n",
    "    train_loss_list.append(loss)\n",
    "    \n",
    "    if i % 100 == 99 :\n",
    "        print(\"Epoch: {}, Cost: {}, Weights: {}, Bias: {}\".format(i+1, loss, AND.weights, AND.bias))"
   ]
  },
  {
   "cell_type": "markdown",
   "id": "a3751498",
   "metadata": {},
   "source": [
    "### 테스트"
   ]
  },
  {
   "cell_type": "code",
   "execution_count": 8,
   "id": "12d3f359",
   "metadata": {},
   "outputs": [
    {
     "name": "stdout",
     "output_type": "stream",
     "text": [
      "[[0.00135483]\n",
      " [0.08867878]\n",
      " [0.08889176]\n",
      " [0.87496677]]\n"
     ]
    }
   ],
   "source": [
    "print(AND.predict(X))"
   ]
  },
  {
   "cell_type": "markdown",
   "id": "e6f89ca3",
   "metadata": {},
   "source": [
    "### OR Gate"
   ]
  },
  {
   "cell_type": "markdown",
   "id": "55e4fb93",
   "metadata": {},
   "source": [
    "### 모델 생성 및 학습"
   ]
  },
  {
   "cell_type": "code",
   "execution_count": 9,
   "id": "239fcf48",
   "metadata": {},
   "outputs": [
    {
     "name": "stdout",
     "output_type": "stream",
     "text": [
      "Epoch: 100, Cost: 0.49580923848195635, Weights: [2.45484353 1.40566594], Bias: [-0.14439625]\n",
      "Epoch: 200, Cost: 0.3398674231515118, Weights: [2.98631846 2.39448393], Bias: [-0.67661178]\n",
      "Epoch: 300, Cost: 0.2573360986187996, Weights: [3.45016595 3.08431266], Bias: [-1.03721585]\n",
      "Epoch: 400, Cost: 0.20630142190075948, Weights: [3.85230067 3.60865952], Bias: [-1.30598633]\n",
      "Epoch: 500, Cost: 0.1716549922113493, Weights: [4.20195872 4.03000824], Bias: [-1.52060015]\n",
      "Epoch: 600, Cost: 0.1466501884550824, Weights: [4.50867681 4.38171478], Bias: [-1.6994397]\n",
      "Epoch: 700, Cost: 0.12779768649454676, Weights: [4.78049264 4.68334611], Bias: [-1.8527641]\n",
      "Epoch: 800, Cost: 0.11310517185413338, Weights: [5.0237707 4.9472786], Bias: [-1.98691756]\n",
      "Epoch: 900, Cost: 0.10135180918376233, Weights: [5.24347159 5.18181684], Bias: [-2.10611973]\n",
      "Epoch: 1000, Cost: 0.09174843008614178, Weights: [5.44346811 5.39279833], Bias: [-2.21332947]\n"
     ]
    }
   ],
   "source": [
    "OR = LogicGateNet()\n",
    "X = np.array([[0,0],[0,1],[1,0],[1,1]])\n",
    "Y_2 = np.array([[0],[1],[1],[1]])\n",
    "\n",
    "train_loss_list = list()\n",
    "\n",
    "for i in range(epochs):\n",
    "    grad_W, grad_B = OR.get_gradient(X,Y_2)\n",
    "    \n",
    "    OR.weights -= lr * grad_W\n",
    "    OR.bias -= lr * grad_B\n",
    "    \n",
    "    loss = OR.loss(X,Y_2)\n",
    "    train_loss_list.append(loss)\n",
    "    \n",
    "    if i % 100 ==99:\n",
    "         print(\"Epoch: {}, Cost: {}, Weights: {}, Bias: {}\".format(i+1, loss, OR.weights, OR.bias))"
   ]
  },
  {
   "cell_type": "markdown",
   "id": "3d83331b",
   "metadata": {},
   "source": [
    "### 테스트"
   ]
  },
  {
   "cell_type": "code",
   "execution_count": 10,
   "id": "28444440",
   "metadata": {},
   "outputs": [
    {
     "name": "stdout",
     "output_type": "stream",
     "text": [
      "[[0.09855987]\n",
      " [0.9600543 ]\n",
      " [0.96195283]\n",
      " [0.9998201 ]]\n"
     ]
    }
   ],
   "source": [
    "print(OR.predict(X))"
   ]
  },
  {
   "cell_type": "markdown",
   "id": "2ff0e1b9",
   "metadata": {},
   "source": [
    "### NAND Gate"
   ]
  },
  {
   "cell_type": "code",
   "execution_count": 11,
   "id": "e94d6557",
   "metadata": {},
   "outputs": [
    {
     "name": "stdout",
     "output_type": "stream",
     "text": [
      "Epoch: 100, Cost: 0.7911738653769252, Weights: [-0.48972722 -1.25798774], Bias: [1.74566135]\n",
      "Epoch: 200, Cost: 0.5430490957885361, Weights: [-1.51545093 -1.80261804], Bias: [2.79151756]\n",
      "Epoch: 300, Cost: 0.4212591302740578, Weights: [-2.14614496 -2.26642639], Bias: [3.56506179]\n",
      "Epoch: 400, Cost: 0.3456117101527486, Weights: [-2.607325   -2.66303355], Bias: [4.18521187]\n",
      "Epoch: 500, Cost: 0.2931298605179329, Weights: [-2.97696333 -3.00501941], Bias: [4.70528682]\n",
      "Epoch: 600, Cost: 0.2543396786002071, Weights: [-3.28850585 -3.30365261], Bias: [5.1539571]\n",
      "Epoch: 700, Cost: 0.22443918596775067, Weights: [-3.55912171 -3.56778782], Bias: [5.54869527]\n",
      "Epoch: 800, Cost: 0.20067626330853877, Weights: [-3.7989077  -3.80411461], Bias: [5.90108417]\n",
      "Epoch: 900, Cost: 0.18134125517637367, Weights: [-4.01441395 -4.01767547], Bias: [6.21926514]\n",
      "Epoch: 1000, Cost: 0.1653094408173465, Weights: [-4.21019696 -4.21231432], Bias: [6.50920952]\n"
     ]
    }
   ],
   "source": [
    "NAND = LogicGateNet()\n",
    "\n",
    "X = np.array([[0,0],[0,1],[1,0],[1,1]])\n",
    "Y_3 = np.array([[1],[1],[1],[0]])\n",
    "\n",
    "train_loss_list = list()\n",
    "\n",
    "for i in range(epochs):\n",
    "    grad_W, grad_B = NAND.get_gradient(X,Y_3)\n",
    "    \n",
    "    NAND.weights -= lr*grad_W\n",
    "    NAND.bias -= lr*grad_B\n",
    "    \n",
    "    loss = NAND.loss(X,Y_3)\n",
    "    train_loss_list.append(loss)\n",
    "    \n",
    "    if i % 100 == 99 :\n",
    "        print(\"Epoch: {}, Cost: {}, Weights: {}, Bias: {}\".format(i+1, loss, NAND.weights, NAND.bias))"
   ]
  },
  {
   "cell_type": "markdown",
   "id": "5fbdaa5c",
   "metadata": {},
   "source": [
    "### 테스트"
   ]
  },
  {
   "cell_type": "code",
   "execution_count": 12,
   "id": "bff07e55",
   "metadata": {},
   "outputs": [
    {
     "name": "stdout",
     "output_type": "stream",
     "text": [
      "[[0.99851256]\n",
      " [0.90861957]\n",
      " [0.90879523]\n",
      " [0.12861037]]\n"
     ]
    }
   ],
   "source": [
    "print(NAND.predict(X))"
   ]
  },
  {
   "cell_type": "markdown",
   "id": "408c216c",
   "metadata": {},
   "source": [
    "### XOR Gate"
   ]
  },
  {
   "cell_type": "code",
   "execution_count": 13,
   "id": "5513a770",
   "metadata": {},
   "outputs": [
    {
     "name": "stdout",
     "output_type": "stream",
     "text": [
      "Epoch: 100, Cost: 1.4026852245456056, Weights: [ 0.47012771 -0.19931523], Bias: [-0.16097708]\n",
      "Epoch: 200, Cost: 1.3879445622848308, Weights: [ 0.1572739  -0.03387161], Bias: [-0.07321056]\n",
      "Epoch: 300, Cost: 1.386492030048381, Weights: [0.05525161 0.00089673], Bias: [-0.03330094]\n",
      "Epoch: 400, Cost: 1.3863236205351948, Weights: [0.02049628 0.00504503], Bias: [-0.01514784]\n",
      "Epoch: 500, Cost: 1.3862994743646844, Weights: [0.0080051  0.00361297], Bias: [-0.00689034]\n",
      "Epoch: 600, Cost: 1.3862953430687464, Weights: [0.00326661 0.00201812], Bias: [-0.00313421]\n",
      "Epoch: 700, Cost: 1.3862945581495083, Weights: [0.00137938 0.00102449], Bias: [-0.00142566]\n",
      "Epoch: 800, Cost: 1.38629440139037, Weights: [0.00059716 0.00049628], Bias: [-0.00064849]\n",
      "Epoch: 900, Cost: 1.3862943694120307, Weights: [0.00026303 0.00023435], Bias: [-0.00029498]\n",
      "Epoch: 1000, Cost: 1.386294362832352, Weights: [0.0001172  0.00010905], Bias: [-0.00013418]\n"
     ]
    }
   ],
   "source": [
    "XOR = LogicGateNet()\n",
    "\n",
    "X = np.array([[0,0],[0,1],[1,0],[1,1]])\n",
    "Y_4 = np.array([[0],[1],[1],[0]])\n",
    "\n",
    "train_loss_list = list()\n",
    "\n",
    "for i in range(epochs):\n",
    "    grad_W, grad_B = XOR.get_gradient(X,Y_4)\n",
    "    \n",
    "    XOR.weights -= lr*grad_W\n",
    "    XOR.bias -= lr*grad_B\n",
    "    \n",
    "    loss = XOR.loss(X,Y_4)\n",
    "    train_loss_list.append(loss)\n",
    "    \n",
    "    if i % 100 == 99 :\n",
    "        print(\"Epoch: {}, Cost: {}, Weights: {}, Bias: {}\".format(i+1, loss, XOR.weights, XOR.bias))"
   ]
  },
  {
   "cell_type": "markdown",
   "id": "7330ff29",
   "metadata": {},
   "source": [
    "### 테스트"
   ]
  },
  {
   "cell_type": "code",
   "execution_count": 14,
   "id": "afbeebc1",
   "metadata": {},
   "outputs": [
    {
     "name": "stdout",
     "output_type": "stream",
     "text": [
      "[[0.49996646]\n",
      " [0.49999372]\n",
      " [0.49999575]\n",
      " [0.50002302]]\n"
     ]
    }
   ],
   "source": [
    "print(XOR.predict(X))"
   ]
  },
  {
   "cell_type": "markdown",
   "id": "2468983e",
   "metadata": {},
   "source": [
    "#### 2층 신경망으로 XOR 게이트 구현(1)\n",
    "\n",
    "- 얕은 신경망, Shallow Neural Network\n",
    "\n",
    "- 두 논리게이트(NAND, OR)를 통과하고  \n",
    "  AND 게이트로 합쳐서 구현\n",
    "\n",
    "- 06 신경망 구조 참고"
   ]
  },
  {
   "cell_type": "code",
   "execution_count": 15,
   "id": "c05fc851",
   "metadata": {},
   "outputs": [],
   "source": [
    "X = np.array([[0,0],[0,1],[1,0],[1,1]])\n",
    "Y_5 = np.array([[0],[1],[1],[0]])\n",
    "\n",
    "s1 = NAND.predict(X)\n",
    "s2 = OR.predict(X)\n",
    "X_2 = np.array([s1, s2]).T.reshape(-1,2)"
   ]
  },
  {
   "cell_type": "markdown",
   "id": "703526bd",
   "metadata": {},
   "source": [
    "### 테스트"
   ]
  },
  {
   "cell_type": "code",
   "execution_count": 16,
   "id": "6eff429b",
   "metadata": {},
   "outputs": [
    {
     "name": "stdout",
     "output_type": "stream",
     "text": [
      "[[0.12870357]\n",
      " [0.79966936]\n",
      " [0.80108545]\n",
      " [0.14420781]]\n"
     ]
    }
   ],
   "source": [
    "print(AND.predict(X_2))"
   ]
  },
  {
   "cell_type": "markdown",
   "id": "31a040ff",
   "metadata": {},
   "source": [
    "#### 2층 신경망으로 XOR 게이트 구현(2)\n",
    "- 클래스로 구현"
   ]
  },
  {
   "cell_type": "code",
   "execution_count": 17,
   "id": "0fc2772e",
   "metadata": {},
   "outputs": [],
   "source": [
    "class XORNet():\n",
    "    \n",
    "    def __init__(self):\n",
    "        np.random.seed(1)\n",
    "        \n",
    "        def weight_init():\n",
    "            params = {}\n",
    "            params['w_1'] = np.random.randn(2)\n",
    "            params['b_1'] = np.random.rand(2)\n",
    "            params['w_2'] = np.random.randn (2)\n",
    "            params['b_2'] = np.random.rand(1)\n",
    "            return params\n",
    "        \n",
    "        self.params = weight_init()\n",
    "        \n",
    "    def predict(self, x):\n",
    "        W_1, W_2 = self.params['w_1'].reshape(-1,1), self.params['w_2'].reshape(-1,1)\n",
    "        B_1, B_2 = self.params['b_1'], self.params['b_2']\n",
    "        \n",
    "        A1 = np.dot(x, W_1) + B_1\n",
    "        Z1 = sigmoid(A1)\n",
    "        A2 = np.dot(Z1, W_2) + B_2\n",
    "        pred_y = sigmoid(A2)\n",
    "        \n",
    "        return pred_y\n",
    "    \n",
    "    def loss(self, x, true_y):\n",
    "        pred_y = self.predict(x)\n",
    "        return cross_entropy_error_for_bin(pred_y, true_y)\n",
    "    \n",
    "    def get_gradient(self,x,t):\n",
    "        def loss_grad(grad):\n",
    "            return self.loss(x,t)\n",
    "        \n",
    "        grads = {}\n",
    "        grads['w_1'] = differential(loss_grad, self.params['w_1'])\n",
    "        grads['b_1'] = differential(loss_grad, self.params['b_1'])\n",
    "        grads['w_2'] = differential(loss_grad, self.params['w_2'])\n",
    "        grads['b_2'] = differential(loss_grad, self.params['b_2'])\n",
    "        \n",
    "        return grads"
   ]
  },
  {
   "cell_type": "markdown",
   "id": "e7afbe50",
   "metadata": {},
   "source": [
    "#### 하이퍼 파라미터(Hyper Parameter)\n",
    "- 재조정"
   ]
  },
  {
   "cell_type": "code",
   "execution_count": 18,
   "id": "203c0d92",
   "metadata": {},
   "outputs": [],
   "source": [
    "lr = 0.3"
   ]
  },
  {
   "cell_type": "markdown",
   "id": "f9b4d8bf",
   "metadata": {},
   "source": [
    "### 모델 생성 및 학습"
   ]
  },
  {
   "cell_type": "code",
   "execution_count": 19,
   "id": "c07b6f52",
   "metadata": {},
   "outputs": [
    {
     "name": "stdout",
     "output_type": "stream",
     "text": [
      "Epoch: 100, Cost: 1.3535614442470036\n",
      "Epoch: 200, Cost: 1.2827154568316697\n",
      "Epoch: 300, Cost: 0.8968907892186366\n",
      "Epoch: 400, Cost: 0.33871971411928997\n",
      "Epoch: 500, Cost: 0.18121344476191775\n",
      "Epoch: 600, Cost: 0.11991186457358068\n",
      "Epoch: 700, Cost: 0.08861936864741338\n",
      "Epoch: 800, Cost: 0.06992180653088811\n",
      "Epoch: 900, Cost: 0.0575804135303371\n",
      "Epoch: 1000, Cost: 0.04886093568413276\n"
     ]
    }
   ],
   "source": [
    "XOR = XORNet()\n",
    "X = np.array([[0,0],[0,1],[1,0],[1,1]])\n",
    "Y_5 = np.array([[0],[1],[1],[0]])\n",
    "\n",
    "train_loss_list = list()\n",
    "\n",
    "for i in range(epochs):\n",
    "    grads = XOR.get_gradient(X,Y_5)\n",
    "    \n",
    "    for key in ('w_1', 'b_1', 'w_2', 'b_2'):\n",
    "        XOR.params[key] -= lr * grads[key]\n",
    "        \n",
    "    loss = XOR.loss(X,Y_5)\n",
    "    train_loss_list.append(loss)\n",
    "    \n",
    "    if i % 100 == 99:\n",
    "        print('Epoch: {}, Cost: {}'.format(i+1,loss))"
   ]
  },
  {
   "cell_type": "markdown",
   "id": "f8286dae",
   "metadata": {},
   "source": [
    "### 테스트"
   ]
  },
  {
   "cell_type": "code",
   "execution_count": 20,
   "id": "85cd1b21",
   "metadata": {},
   "outputs": [
    {
     "name": "stdout",
     "output_type": "stream",
     "text": [
      "[[0.0217367 ]\n",
      " [0.96884394]\n",
      " [0.97816819]\n",
      " [0.0217794 ]]\n"
     ]
    }
   ],
   "source": [
    "print(XOR.predict(X))"
   ]
  },
  {
   "cell_type": "markdown",
   "id": "a9f9a13e",
   "metadata": {},
   "source": [
    "## 다중 클래스 분류 : MNIST Dataset"
   ]
  },
  {
   "cell_type": "markdown",
   "id": "8ec5052f",
   "metadata": {},
   "source": [
    "### 배치 처리\n",
    "- 학습 데이터 전체를 한번에 진행하지 않고  \n",
    "  일부 데이터(샘플)을 확률적으로 구해서 조금씩 나누어 진행\n",
    "\n",
    "- 확률적 경사 하강법(Stochastic Gradient Descent) 또는  \n",
    "  미니 배치 학습법(mini-batch learning)이라고도 부름"
   ]
  },
  {
   "cell_type": "markdown",
   "id": "580058b7",
   "metadata": {},
   "source": [
    "#### 신경망 구현 : MNIST "
   ]
  },
  {
   "cell_type": "code",
   "execution_count": 21,
   "id": "43c4c30b",
   "metadata": {},
   "outputs": [],
   "source": [
    "import numpy as np\n",
    "import matplotlib.pyplot as plt\n",
    "import tensorflow as tf\n",
    "\n",
    "import time\n",
    "from tqdm.notebook import tqdm"
   ]
  },
  {
   "cell_type": "markdown",
   "id": "f8bd601f",
   "metadata": {},
   "source": [
    "#### 데이터 로드"
   ]
  },
  {
   "cell_type": "code",
   "execution_count": 22,
   "id": "d86ac933",
   "metadata": {},
   "outputs": [],
   "source": [
    "mnist = tf.keras.datasets.mnist\n",
    "\n",
    "(x_train,y_train), (x_test, y_test) = mnist.load_data()"
   ]
  },
  {
   "cell_type": "markdown",
   "id": "125f8124",
   "metadata": {},
   "source": [
    "### 데이터 확인"
   ]
  },
  {
   "cell_type": "code",
   "execution_count": 23,
   "id": "6d48e559",
   "metadata": {},
   "outputs": [
    {
     "name": "stdout",
     "output_type": "stream",
     "text": [
      "(60000, 28, 28)\n",
      "(60000,)\n",
      "(10000, 28, 28)\n",
      "(10000,)\n"
     ]
    }
   ],
   "source": [
    "print(x_train.shape)\n",
    "print(y_train.shape)\n",
    "\n",
    "print(x_test.shape)\n",
    "print(y_test.shape)"
   ]
  },
  {
   "cell_type": "code",
   "execution_count": 24,
   "id": "87e81b25",
   "metadata": {},
   "outputs": [
    {
     "name": "stdout",
     "output_type": "stream",
     "text": [
      "(28, 28)\n"
     ]
    },
    {
     "data": {
      "image/png": "[encoded data removed]",
      "text/plain": [
       "<Figure size 640x480 with 1 Axes>"
      ]
     },
     "metadata": {},
     "output_type": "display_data"
    }
   ],
   "source": [
    "img = x_train[0]\n",
    "print(img.shape)\n",
    "\n",
    "plt.imshow(img, cmap='gray')\n",
    "plt.show()"
   ]
  },
  {
   "cell_type": "code",
   "execution_count": 25,
   "id": "f528e9f9",
   "metadata": {},
   "outputs": [
    {
     "data": {
      "text/plain": [
       "5"
      ]
     },
     "execution_count": 25,
     "metadata": {},
     "output_type": "execute_result"
    }
   ],
   "source": [
    "y_train[0]"
   ]
  },
  {
   "cell_type": "code",
   "execution_count": 26,
   "id": "2673b3f3",
   "metadata": {},
   "outputs": [
    {
     "data": {
      "text/plain": [
       "7"
      ]
     },
     "execution_count": 26,
     "metadata": {},
     "output_type": "execute_result"
    }
   ],
   "source": [
    "y_test[0]"
   ]
  },
  {
   "cell_type": "markdown",
   "id": "b727dbbf",
   "metadata": {},
   "source": [
    "### 데이터 전처리(Data Preprocessing)"
   ]
  },
  {
   "cell_type": "code",
   "execution_count": 27,
   "id": "2912b804",
   "metadata": {},
   "outputs": [],
   "source": [
    "def flatten_for_mnist(x):\n",
    "    temp = np.zeros((x.shape[0],x[0].size))\n",
    "    \n",
    "    for idx, data in enumerate(x):\n",
    "        temp[idx, :] = data.flatten()\n",
    "        \n",
    "    return temp"
   ]
  },
  {
   "cell_type": "code",
   "execution_count": 1,
   "id": "d9b45d78",
   "metadata": {},
   "outputs": [
    {
     "data": {
      "text/plain": [
       "'\\nx_train, x_test = x_train/255.0, x_test/255.0\\n\\nx_train = flatten_for_mnist(x_train)\\nx_test = flatten_for_mnist(x_test)\\n\\nprint(x_train.shape)\\nprint(x_test.shape)\\n\\ny_train_ohe = tf.one_hot(y_train,depth=10).numpy()\\ny_test_ohe = tf.one_hot(y_test, depth=10).numpy()\\n\\nprint(y_train_ohe.shape)\\nprint(y_test_ohe.shape)\\n'"
      ]
     },
     "execution_count": 1,
     "metadata": {},
     "output_type": "execute_result"
    }
   ],
   "source": [
    "'''\n",
    "x_train, x_test = x_train/255.0, x_test/255.0\n",
    "\n",
    "x_train = flatten_for_mnist(x_train)\n",
    "x_test = flatten_for_mnist(x_test)\n",
    "\n",
    "print(x_train.shape)\n",
    "print(x_test.shape)\n",
    "\n",
    "y_train_ohe = tf.one_hot(y_train,depth=10).numpy()\n",
    "y_test_ohe = tf.one_hot(y_test, depth=10).numpy()\n",
    "\n",
    "print(y_train_ohe.shape)\n",
    "print(y_test_ohe.shape)\n",
    "'''"
   ]
  },
  {
   "cell_type": "code",
   "execution_count": 29,
   "id": "9999eaa8",
   "metadata": {},
   "outputs": [
    {
     "name": "stdout",
     "output_type": "stream",
     "text": [
      "255 0\n"
     ]
    },
    {
     "ename": "NameError",
     "evalue": "name 'y_train_ohe' is not defined",
     "output_type": "error",
     "traceback": [
      "\u001b[1;31m---------------------------------------------------------------------------\u001b[0m",
      "\u001b[1;31mNameError\u001b[0m                                 Traceback (most recent call last)",
      "Cell \u001b[1;32mIn[29], line 2\u001b[0m\n\u001b[0;32m      1\u001b[0m \u001b[38;5;28mprint\u001b[39m(x_train[\u001b[38;5;241m0\u001b[39m]\u001b[38;5;241m.\u001b[39mmax(), x_train[\u001b[38;5;241m0\u001b[39m]\u001b[38;5;241m.\u001b[39mmin())\n\u001b[1;32m----> 2\u001b[0m \u001b[38;5;28mprint\u001b[39m(\u001b[43my_train_ohe\u001b[49m[\u001b[38;5;241m0\u001b[39m])\n",
      "\u001b[1;31mNameError\u001b[0m: name 'y_train_ohe' is not defined"
     ]
    }
   ],
   "source": [
    "print(x_train[0].max(), x_train[0].min())\n",
    "print(y_train_ohe[0])"
   ]
  },
  {
   "cell_type": "markdown",
   "id": "31e35302",
   "metadata": {},
   "source": [
    "#### 하이퍼 파라미터(Hyper Parameter)"
   ]
  },
  {
   "cell_type": "markdown",
   "id": "f3843e92",
   "metadata": {},
   "source": []
  }
 ],
 "metadata": {
  "kernelspec": {
   "display_name": "coding",
   "language": "python",
   "name": "coding"
  },
  "language_info": {
   "codemirror_mode": {
    "name": "ipython",
    "version": 3
   },
   "file_extension": ".py",
   "mimetype": "text/x-python",
   "name": "python",
   "nbconvert_exporter": "python",
   "pygments_lexer": "ipython3",
   "version": "3.8.15"
  }
 },
 "nbformat": 4,
 "nbformat_minor": 5
}
