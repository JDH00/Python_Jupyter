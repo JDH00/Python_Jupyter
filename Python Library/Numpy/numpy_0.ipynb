{
 "cells": [
  {
   "cell_type": "code",
   "execution_count": 1,
   "id": "ad0dcf91",
   "metadata": {},
   "outputs": [],
   "source": [
    "import numpy as np"
   ]
  },
  {
   "cell_type": "markdown",
   "id": "fc6811cb",
   "metadata": {},
   "source": [
    "# Numpy 기본"
   ]
  },
  {
   "cell_type": "code",
   "execution_count": 16,
   "id": "0116132a",
   "metadata": {},
   "outputs": [
    {
     "name": "stdout",
     "output_type": "stream",
     "text": [
      "[1 2 3 4 5]\n",
      "<class 'numpy.ndarray'>\n",
      "(5,)\n",
      "1 2 3 4 5\n"
     ]
    }
   ],
   "source": [
    "a1=np.array([1,2,3,4,5])\n",
    "print(a1)\n",
    "print(type(a1))\n",
    "print(a1.shape)\n",
    "print(a1[0], a1[1], a1[2], a1[3], a1[4])"
   ]
  },
  {
   "cell_type": "code",
   "execution_count": 22,
   "id": "38b34cfd",
   "metadata": {},
   "outputs": [
    {
     "name": "stdout",
     "output_type": "stream",
     "text": [
      "[[1 2 3 4]\n",
      " [4 5 6 9]\n",
      " [7 8 9 2]]\n",
      "(3, 4)\n",
      "1 5 9\n"
     ]
    }
   ],
   "source": [
    "a2=np.array([ [1,2,3,4], [4,5,6,9], [7,8,9,2] ])\n",
    "print(a2)\n",
    "print(a2.shape)\n",
    "print(a2[0,0], a2[1,1], a2[2,2])"
   ]
  },
  {
   "cell_type": "code",
   "execution_count": 29,
   "id": "b4f42fc2",
   "metadata": {},
   "outputs": [
    {
     "name": "stdout",
     "output_type": "stream",
     "text": [
      "[[[1 2 3]\n",
      "  [4 5 6]\n",
      "  [7 8 9]]\n",
      "\n",
      " [[1 2 3]\n",
      "  [4 5 6]\n",
      "  [7 8 9]]\n",
      "\n",
      " [[1 2 3]\n",
      "  [4 5 6]\n",
      "  [7 8 9]]]\n",
      "(3, 3, 3)\n"
     ]
    }
   ],
   "source": [
    "a3=np.array([ [ [1,2,3],[4,5,6],[7,8,9] ],\n",
    "              [ [1,2,3],[4,5,6],[7,8,9] ],\n",
    "              [ [1,2,3],[4,5,6],[7,8,9] ] ])\n",
    "print(a3)\n",
    "print(a3.shape)"
   ]
  },
  {
   "cell_type": "markdown",
   "id": "88e2a260",
   "metadata": {},
   "source": [
    "# 배열 생성 및 초기화"
   ]
  },
  {
   "cell_type": "code",
   "execution_count": 31,
   "id": "57a6b3a4",
   "metadata": {},
   "outputs": [
    {
     "data": {
      "text/plain": [
       "array([0., 0., 0., 0., 0., 0., 0., 0., 0., 0.])"
      ]
     },
     "execution_count": 31,
     "metadata": {},
     "output_type": "execute_result"
    }
   ],
   "source": [
    "np.zeros(10)\n",
    "# 10개의 요소를 0으로"
   ]
  },
  {
   "cell_type": "code",
   "execution_count": 33,
   "id": "af552e47",
   "metadata": {},
   "outputs": [
    {
     "data": {
      "text/plain": [
       "array([1., 1., 1., 1., 1., 1., 1., 1., 1., 1.])"
      ]
     },
     "execution_count": 33,
     "metadata": {},
     "output_type": "execute_result"
    }
   ],
   "source": [
    "np.ones(10)\n",
    "#위랑 같은 원리"
   ]
  },
  {
   "cell_type": "code",
   "execution_count": 35,
   "id": "3467048c",
   "metadata": {},
   "outputs": [
    {
     "data": {
      "text/plain": [
       "array([[1., 1., 1.],\n",
       "       [1., 1., 1.],\n",
       "       [1., 1., 1.]])"
      ]
     },
     "execution_count": 35,
     "metadata": {},
     "output_type": "execute_result"
    }
   ],
   "source": [
    "np.ones((3,3))\n",
    "#개수를 의미할때는 소괄호"
   ]
  },
  {
   "cell_type": "code",
   "execution_count": 36,
   "id": "d1273023",
   "metadata": {},
   "outputs": [
    {
     "data": {
      "text/plain": [
       "array([[1.23, 1.23, 1.23],\n",
       "       [1.23, 1.23, 1.23],\n",
       "       [1.23, 1.23, 1.23]])"
      ]
     },
     "execution_count": 36,
     "metadata": {},
     "output_type": "execute_result"
    }
   ],
   "source": [
    "np.full((3,3), 1.23)"
   ]
  },
  {
   "cell_type": "code",
   "execution_count": 39,
   "id": "5bd9d6d3",
   "metadata": {},
   "outputs": [
    {
     "data": {
      "text/plain": [
       "array([[1., 0., 0., 0., 0.],\n",
       "       [0., 1., 0., 0., 0.],\n",
       "       [0., 0., 1., 0., 0.],\n",
       "       [0., 0., 0., 1., 0.],\n",
       "       [0., 0., 0., 0., 1.]])"
      ]
     },
     "execution_count": 39,
     "metadata": {},
     "output_type": "execute_result"
    }
   ],
   "source": [
    "np.eye(5)\n",
    "# 단위행렬(identity matrix)생성\n",
    "# 주 대각선의 원소가 모두 1이고 나머지 원소는 모두 0인 정사각 행렬"
   ]
  },
  {
   "cell_type": "code",
   "execution_count": 41,
   "id": "334c9d15",
   "metadata": {},
   "outputs": [
    {
     "data": {
      "text/plain": [
       "array([[1., 0., 0.],\n",
       "       [1., 1., 0.],\n",
       "       [1., 1., 1.]])"
      ]
     },
     "execution_count": 41,
     "metadata": {},
     "output_type": "execute_result"
    }
   ],
   "source": [
    "np.tri(3)\n",
    "# 삼각행렬 생성"
   ]
  },
  {
   "cell_type": "code",
   "execution_count": 43,
   "id": "67f4ce95",
   "metadata": {},
   "outputs": [
    {
     "data": {
      "text/plain": [
       "array([1., 1., 1., 1., 1., 1., 1., 1., 1., 1.])"
      ]
     },
     "execution_count": 43,
     "metadata": {},
     "output_type": "execute_result"
    }
   ],
   "source": [
    "np.empty(10)\n",
    "# 초기화되지 않은 배열을 생성\n",
    "# 초기화가 없어서 배열 생성비용 저렴하고 빠름\n",
    "# 초기화되지 않아서 기존 메모리 위치에 존재하는 값이 있음"
   ]
  },
  {
   "cell_type": "code",
   "execution_count": 52,
   "id": "a4492648",
   "metadata": {},
   "outputs": [
    {
     "name": "stdout",
     "output_type": "stream",
     "text": [
      "[[1 2 3 4]\n",
      " [4 5 6 9]\n",
      " [7 8 9 2]]\n",
      "[[0 0 0 0]\n",
      " [0 0 0 0]\n",
      " [0 0 0 0]]\n",
      "[[1 1 1 1]\n",
      " [1 1 1 1]\n",
      " [1 1 1 1]]\n",
      "[[10 10 10 10]\n",
      " [10 10 10 10]\n",
      " [10 10 10 10]]\n"
     ]
    }
   ],
   "source": [
    "# _like(): 지전된 배열과 shape가 같은 행렬 생성\n",
    "print(a2)\n",
    "print(np.zeros_like(a2))\n",
    "print(np.ones_like(a2))\n",
    "print(np.full_like(a2,10))"
   ]
  },
  {
   "cell_type": "markdown",
   "id": "628ea7fe",
   "metadata": {},
   "source": [
    "# 생성한 값으로 배열 생성"
   ]
  },
  {
   "cell_type": "code",
   "execution_count": 55,
   "id": "f6ce2f22",
   "metadata": {},
   "outputs": [
    {
     "data": {
      "text/plain": [
       "array([ 0,  2,  4,  6,  8, 10, 12, 14, 16, 18, 20, 22, 24, 26, 28])"
      ]
     },
     "execution_count": 55,
     "metadata": {},
     "output_type": "execute_result"
    }
   ],
   "source": [
    "np.arange(0,30,2)\n",
    "#range"
   ]
  },
  {
   "cell_type": "code",
   "execution_count": 57,
   "id": "3684b380",
   "metadata": {},
   "outputs": [
    {
     "data": {
      "text/plain": [
       "array([0.  , 0.25, 0.5 , 0.75, 1.  ])"
      ]
     },
     "execution_count": 57,
     "metadata": {},
     "output_type": "execute_result"
    }
   ],
   "source": [
    "np.linspace(0,1,5)\n",
    "# 0부터 1인데 5개로 균등하게 만들어줘"
   ]
  },
  {
   "cell_type": "code",
   "execution_count": 59,
   "id": "273becda",
   "metadata": {},
   "outputs": [
    {
     "data": {
      "text/plain": [
       "array([ 1.25892541,  1.40400425,  1.565802  ,  1.74624535,  1.94748304,\n",
       "        2.1719114 ,  2.42220294,  2.70133812,  3.0126409 ,  3.35981829,\n",
       "        3.74700446,  4.17881006,  4.66037703,  5.19743987,  5.79639395,\n",
       "        6.46437163,  7.2093272 ,  8.04013161,  8.9666781 , 10.        ])"
      ]
     },
     "execution_count": 59,
     "metadata": {},
     "output_type": "execute_result"
    }
   ],
   "source": [
    "np.logspace(0.1, 1, 20)\n",
    "# 0.1부터 1까지 균등하게 20개를 logsclae로 배열생성"
   ]
  },
  {
   "cell_type": "markdown",
   "id": "482288ea",
   "metadata": {},
   "source": [
    "# 랜덤값으로 배열 생성"
   ]
  },
  {
   "cell_type": "code",
   "execution_count": 62,
   "id": "6e18bf91",
   "metadata": {},
   "outputs": [
    {
     "data": {
      "text/plain": [
       "array([[0.33843164, 0.4947684 , 0.39187914, 0.59126938],\n",
       "       [0.19071186, 0.22862309, 0.60074866, 0.83376166],\n",
       "       [0.2175582 , 0.45621776, 0.52399996, 0.97434899]])"
      ]
     },
     "execution_count": 62,
     "metadata": {},
     "output_type": "execute_result"
    }
   ],
   "source": [
    "np.random.random((3,4))\n",
    "# 3by4로 랜덤하게 만들때"
   ]
  },
  {
   "cell_type": "code",
   "execution_count": 65,
   "id": "f3b795fd",
   "metadata": {},
   "outputs": [
    {
     "data": {
      "text/plain": [
       "array([[7, 5, 6, 6],\n",
       "       [4, 0, 1, 0],\n",
       "       [1, 9, 2, 7]])"
      ]
     },
     "execution_count": 65,
     "metadata": {},
     "output_type": "execute_result"
    }
   ],
   "source": [
    "np.random.randint(0,10,(3,4))\n",
    "# 0부터 10까지 3by4로 랜덤하게 int로 만들때"
   ]
  },
  {
   "cell_type": "code",
   "execution_count": 67,
   "id": "01ed9561",
   "metadata": {},
   "outputs": [
    {
     "data": {
      "text/plain": [
       "array([[-0.10263209,  1.3258792 , -0.43732228,  0.14650653],\n",
       "       [ 1.26017723,  0.50681686, -1.20022979, -0.69776831],\n",
       "       [-0.22033064,  0.35926188, -0.66312982,  1.13846209]])"
      ]
     },
     "execution_count": 67,
     "metadata": {},
     "output_type": "execute_result"
    }
   ],
   "source": [
    "np.random.normal(0, 1, (3,4))\n",
    "# 정규분포를 고려해 랜덤한 수의 배열을 생성\n",
    "# 평균=0, 표준편차=1, 3by4 배열"
   ]
  },
  {
   "cell_type": "code",
   "execution_count": 70,
   "id": "0422d31b",
   "metadata": {},
   "outputs": [
    {
     "data": {
      "text/plain": [
       "array([[0.21487754, 0.52711174, 0.52516891, 0.97162903],\n",
       "       [0.87027724, 0.71806707, 0.18899064, 0.15115009],\n",
       "       [0.96450602, 0.20281783, 0.77986703, 0.22967356]])"
      ]
     },
     "execution_count": 70,
     "metadata": {},
     "output_type": "execute_result"
    }
   ],
   "source": [
    "np.random.rand(3,4)\n",
    "# 균등분포(uniform distribution)을 고려해 랜덤한 수의 배열을 생성"
   ]
  },
  {
   "cell_type": "code",
   "execution_count": 71,
   "id": "e9a9dc9b",
   "metadata": {},
   "outputs": [
    {
     "data": {
      "text/plain": [
       "array([[ 1.21692459, -1.6845702 ,  0.53692959,  0.28874462],\n",
       "       [-0.07984104,  1.08863022, -0.39426561, -0.39831928],\n",
       "       [ 1.69489665, -0.63948107,  1.08144524,  0.43414065]])"
      ]
     },
     "execution_count": 71,
     "metadata": {},
     "output_type": "execute_result"
    }
   ],
   "source": [
    "np.random.randn(3,4)\n",
    "# 표준 정규 분포(standard normal distribution)를 고려해 랜덤한 수의 배열 생성"
   ]
  },
  {
   "cell_type": "markdown",
   "id": "6e81f504",
   "metadata": {},
   "source": [
    "# 표준 데이터 타입"
   ]
  },
  {
   "cell_type": "code",
   "execution_count": 72,
   "id": "692dc33e",
   "metadata": {},
   "outputs": [
    {
     "data": {
      "text/plain": [
       "array([0, 0, 0, 0, 0, 0, 0, 0, 0, 0, 0, 0, 0, 0, 0, 0, 0, 0, 0, 0])"
      ]
     },
     "execution_count": 72,
     "metadata": {},
     "output_type": "execute_result"
    }
   ],
   "source": [
    "np.zeros(20,dtype=int)"
   ]
  },
  {
   "cell_type": "code",
   "execution_count": 77,
   "id": "03afc9f9",
   "metadata": {},
   "outputs": [
    {
     "data": {
      "text/plain": [
       "array([[ True, False, False, False, False],\n",
       "       [ True,  True, False, False, False],\n",
       "       [ True,  True,  True, False, False],\n",
       "       [ True,  True,  True,  True, False],\n",
       "       [ True,  True,  True,  True,  True]])"
      ]
     },
     "execution_count": 77,
     "metadata": {},
     "output_type": "execute_result"
    }
   ],
   "source": [
    "np.tri(5,dtype=bool)"
   ]
  },
  {
   "cell_type": "code",
   "execution_count": 79,
   "id": "19657163",
   "metadata": {},
   "outputs": [
    {
     "data": {
      "text/plain": [
       "array([[1., 1., 1., 1.],\n",
       "       [1., 1., 1., 1.],\n",
       "       [1., 1., 1., 1.]])"
      ]
     },
     "execution_count": 79,
     "metadata": {},
     "output_type": "execute_result"
    }
   ],
   "source": [
    "np.full((3,4), 1.0 , dtype=float)"
   ]
  },
  {
   "cell_type": "markdown",
   "id": "7ef692e8",
   "metadata": {},
   "source": [
    "# 날짜/시간 배열 생성"
   ]
  },
  {
   "cell_type": "code",
   "execution_count": 85,
   "id": "d3045247",
   "metadata": {},
   "outputs": [
    {
     "data": {
      "text/plain": [
       "array('2020-01-01', dtype='datetime64[D]')"
      ]
     },
     "execution_count": 85,
     "metadata": {},
     "output_type": "execute_result"
    }
   ],
   "source": [
    "data= np.array('2020-01-01',dtype=np.datetime64)\n",
    "data"
   ]
  },
  {
   "cell_type": "code",
   "execution_count": 86,
   "id": "7abc4474",
   "metadata": {},
   "outputs": [
    {
     "data": {
      "text/plain": [
       "array(['2020-01-01', '2020-01-02', '2020-01-03', '2020-01-04',\n",
       "       '2020-01-05', '2020-01-06', '2020-01-07', '2020-01-08',\n",
       "       '2020-01-09', '2020-01-10', '2020-01-11', '2020-01-12'],\n",
       "      dtype='datetime64[D]')"
      ]
     },
     "execution_count": 86,
     "metadata": {},
     "output_type": "execute_result"
    }
   ],
   "source": [
    "data+np.arange(12)"
   ]
  },
  {
   "cell_type": "code",
   "execution_count": 88,
   "id": "b67eddce",
   "metadata": {},
   "outputs": [
    {
     "data": {
      "text/plain": [
       "numpy.datetime64('2020-06-01T12:00')"
      ]
     },
     "execution_count": 88,
     "metadata": {},
     "output_type": "execute_result"
    }
   ],
   "source": [
    "datetime=np.datetime64('2020-06-01 12:00')\n",
    "datetime"
   ]
  },
  {
   "cell_type": "code",
   "execution_count": 91,
   "id": "68b3e8b9",
   "metadata": {},
   "outputs": [
    {
     "data": {
      "text/plain": [
       "numpy.datetime64('2020-06-01T12:00:15.344345000')"
      ]
     },
     "execution_count": 91,
     "metadata": {},
     "output_type": "execute_result"
    }
   ],
   "source": [
    "datetime=np.datetime64('2020-06-01 12:00:15.344345','ns')\n",
    "datetime"
   ]
  },
  {
   "cell_type": "markdown",
   "id": "4c8ee42d",
   "metadata": {},
   "source": [
    "# 배열 조회"
   ]
  },
  {
   "cell_type": "markdown",
   "id": "8f7cc7b4",
   "metadata": {},
   "source": [
    "## 배열 속성 정보"
   ]
  },
  {
   "cell_type": "code",
   "execution_count": 96,
   "id": "3ec20746",
   "metadata": {},
   "outputs": [],
   "source": [
    "def a_info(array):\n",
    "    print(array)\n",
    "    print(\"ndim: \", array.ndim) #축의 갯수\n",
    "    print(\"shape: \", array.shape) #축의 크기\n",
    "    print(\"dtype: \", array.dtype) #요소의 타입\n",
    "    print(\"size: \", array.size) #전체 갯수\n",
    "    print(\"itemsize: \", array.itemsize) #타입의 byte크기\n",
    "    print(\"nbytes: \", array.nbytes) #차지하는 byte수\n",
    "    print(\"strides: \", array.strides)"
   ]
  },
  {
   "cell_type": "code",
   "execution_count": 98,
   "id": "e4be8c58",
   "metadata": {},
   "outputs": [
    {
     "name": "stdout",
     "output_type": "stream",
     "text": [
      "[1 2 3 4 5]\n",
      "ndim:  1\n",
      "shape:  (5,)\n",
      "dtype:  int32\n",
      "size:  5\n",
      "itemsize:  4\n",
      "nbytes:  20\n",
      "strides:  (4,)\n"
     ]
    }
   ],
   "source": [
    "a_info(a1)"
   ]
  },
  {
   "cell_type": "code",
   "execution_count": 99,
   "id": "723bed73",
   "metadata": {},
   "outputs": [
    {
     "name": "stdout",
     "output_type": "stream",
     "text": [
      "[[1 2 3 4]\n",
      " [4 5 6 9]\n",
      " [7 8 9 2]]\n",
      "ndim:  2\n",
      "shape:  (3, 4)\n",
      "dtype:  int32\n",
      "size:  12\n",
      "itemsize:  4\n",
      "nbytes:  48\n",
      "strides:  (16, 4)\n"
     ]
    }
   ],
   "source": [
    "a_info(a2)"
   ]
  },
  {
   "cell_type": "code",
   "execution_count": 100,
   "id": "e0e105cc",
   "metadata": {},
   "outputs": [
    {
     "name": "stdout",
     "output_type": "stream",
     "text": [
      "[[[1 2 3]\n",
      "  [4 5 6]\n",
      "  [7 8 9]]\n",
      "\n",
      " [[1 2 3]\n",
      "  [4 5 6]\n",
      "  [7 8 9]]\n",
      "\n",
      " [[1 2 3]\n",
      "  [4 5 6]\n",
      "  [7 8 9]]]\n",
      "ndim:  3\n",
      "shape:  (3, 3, 3)\n",
      "dtype:  int32\n",
      "size:  27\n",
      "itemsize:  4\n",
      "nbytes:  108\n",
      "strides:  (36, 12, 4)\n"
     ]
    }
   ],
   "source": [
    "a_info(a3)"
   ]
  },
  {
   "cell_type": "markdown",
   "id": "22ccda69",
   "metadata": {},
   "source": [
    "## Indexing"
   ]
  },
  {
   "cell_type": "code",
   "execution_count": 103,
   "id": "8a553431",
   "metadata": {},
   "outputs": [
    {
     "name": "stdout",
     "output_type": "stream",
     "text": [
      "[1 2 3 4 5]\n",
      "1\n",
      "5\n",
      "4\n"
     ]
    }
   ],
   "source": [
    "print(a1)\n",
    "print(a1[0])\n",
    "print(a1[-1])\n",
    "print(a1[-2])"
   ]
  },
  {
   "cell_type": "code",
   "execution_count": 104,
   "id": "c82980df",
   "metadata": {},
   "outputs": [
    {
     "name": "stdout",
     "output_type": "stream",
     "text": [
      "[[1 2 3 4]\n",
      " [4 5 6 9]\n",
      " [7 8 9 2]]\n",
      "1\n",
      "9\n",
      "5\n"
     ]
    }
   ],
   "source": [
    "print(a2)\n",
    "print(a2[0,0])\n",
    "print(a2[-1,2])\n",
    "print(a2[-2,1])"
   ]
  },
  {
   "cell_type": "code",
   "execution_count": 105,
   "id": "64294cdf",
   "metadata": {},
   "outputs": [
    {
     "name": "stdout",
     "output_type": "stream",
     "text": [
      "[[[1 2 3]\n",
      "  [4 5 6]\n",
      "  [7 8 9]]\n",
      "\n",
      " [[1 2 3]\n",
      "  [4 5 6]\n",
      "  [7 8 9]]\n",
      "\n",
      " [[1 2 3]\n",
      "  [4 5 6]\n",
      "  [7 8 9]]]\n",
      "1\n",
      "8\n",
      "5\n"
     ]
    }
   ],
   "source": [
    "print(a3)\n",
    "print(a3[0,0,0])\n",
    "print(a3[-1,2,1])\n",
    "print(a3[-2,1,1])"
   ]
  },
  {
   "cell_type": "markdown",
   "id": "eb04c12e",
   "metadata": {},
   "source": [
    "## Slicing"
   ]
  },
  {
   "cell_type": "code",
   "execution_count": 107,
   "id": "60c3cf63",
   "metadata": {},
   "outputs": [
    {
     "name": "stdout",
     "output_type": "stream",
     "text": [
      "[1 2 3 4 5]\n",
      "[1 2]\n",
      "[1 2 3 4 5]\n",
      "[1]\n",
      "[1 3 5]\n",
      "[5 4 3 2 1]\n"
     ]
    }
   ],
   "source": [
    "print(a1)\n",
    "print(a1[0:2])\n",
    "print(a1[0:])\n",
    "print(a1[:1])\n",
    "print(a1[::2])\n",
    "print(a1[::-1])"
   ]
  },
  {
   "cell_type": "code",
   "execution_count": 109,
   "id": "2d7ffa58",
   "metadata": {},
   "outputs": [
    {
     "name": "stdout",
     "output_type": "stream",
     "text": [
      "[[1 2 3 4]\n",
      " [4 5 6 9]\n",
      " [7 8 9 2]]\n",
      "[4 5 6 9]\n",
      "[4 5 6 9]\n",
      "[[1 2]\n",
      " [4 5]]\n",
      "[[9 6 5 4]\n",
      " [2 9 8 7]]\n",
      "[[2 9 8 7]\n",
      " [9 6 5 4]\n",
      " [4 3 2 1]]\n"
     ]
    }
   ],
   "source": [
    "print(a2)\n",
    "print(a2[1])\n",
    "print(a2[1, :])\n",
    "print(a2[:2,:2])\n",
    "print(a2[1:, ::-1])\n",
    "print(a2[::-1 ,::-1])"
   ]
  },
  {
   "cell_type": "markdown",
   "id": "92fb44ba",
   "metadata": {},
   "source": [
    "## Boolean Indexing"
   ]
  },
  {
   "cell_type": "code",
   "execution_count": 111,
   "id": "5b0152da",
   "metadata": {},
   "outputs": [
    {
     "name": "stdout",
     "output_type": "stream",
     "text": [
      "[1 2 3 4 5]\n",
      "[2 3 5]\n"
     ]
    }
   ],
   "source": [
    "print(a1)\n",
    "bi = [False, True, True, False, True]\n",
    "print(a1[bi])\n",
    "# 배열을 True, False로 지정\n",
    "# True 값인 인덱스 값만 조회"
   ]
  },
  {
   "cell_type": "code",
   "execution_count": 130,
   "id": "a7ae0cc7",
   "metadata": {},
   "outputs": [
    {
     "name": "stdout",
     "output_type": "stream",
     "text": [
      "[[1 2 3 4]\n",
      " [4 5 6 9]\n",
      " [7 8 9 2]]\n",
      "[[ True False False  True]\n",
      " [False False False  True]\n",
      " [ True False False False]]\n",
      "[1 4 9 7]\n"
     ]
    }
   ],
   "source": [
    "print(a2)\n",
    "bi=np.random.randint(0, 2, (3,4), dtype=bool)\n",
    "print(bi)\n",
    "print(a2[bi])"
   ]
  },
  {
   "cell_type": "markdown",
   "id": "5106ca0d",
   "metadata": {},
   "source": [
    "## 팬시 인덱싱(Fancy Indexing)"
   ]
  },
  {
   "cell_type": "code",
   "execution_count": 136,
   "id": "c103cff7",
   "metadata": {},
   "outputs": [
    {
     "name": "stdout",
     "output_type": "stream",
     "text": [
      "[1 2 3 4 5]\n",
      "[1, 3]\n",
      "[1 3]\n",
      "[[1 2]\n",
      " [3 1]]\n"
     ]
    }
   ],
   "source": [
    "print(a1)\n",
    "print([a1[0],a1[2]])\n",
    "ind=[0,2]\n",
    "print(a1[ind])\n",
    "ind=np.array([[0,1],\n",
    "            [2,0]])\n",
    "print(a1[ind])"
   ]
  },
  {
   "cell_type": "code",
   "execution_count": 139,
   "id": "af71bf03",
   "metadata": {},
   "outputs": [
    {
     "name": "stdout",
     "output_type": "stream",
     "text": [
      "[[1 2 3 4]\n",
      " [4 5 6 9]\n",
      " [7 8 9 2]]\n",
      "[2 9]\n",
      "[[1 2 3 4]\n",
      " [7 8 9 2]]\n",
      "[[2 3]\n",
      " [5 6]\n",
      " [8 9]]\n",
      "[2 8]\n",
      "[8 9]\n",
      "[[2 3 4]\n",
      " [8 9 2]]\n",
      "[[5 6]\n",
      " [8 9]]\n"
     ]
    }
   ],
   "source": [
    "print(a2)\n",
    "row=np.array([0,2])\n",
    "col=np.array([1,2])\n",
    "print(a2[row,col])\n",
    "print(a2[row,:])\n",
    "print(a2[:,col])\n",
    "print(a2[row,1])\n",
    "print(a2[2,col])\n",
    "print(a2[row,1:])\n",
    "print(a2[1:,col])"
   ]
  },
  {
   "cell_type": "markdown",
   "id": "6fcac783",
   "metadata": {},
   "source": [
    "# 배열 값 삽입/수정/삭제/복사"
   ]
  },
  {
   "cell_type": "markdown",
   "id": "3a311e49",
   "metadata": {},
   "source": [
    "## 배열 값 삽입"
   ]
  },
  {
   "cell_type": "code",
   "execution_count": 142,
   "id": "c1d546fe",
   "metadata": {},
   "outputs": [
    {
     "ename": "SyntaxError",
     "evalue": "invalid syntax (<ipython-input-142-d1a04325c114>, line 1)",
     "output_type": "error",
     "traceback": [
      "\u001b[1;36m  File \u001b[1;32m\"<ipython-input-142-d1a04325c114>\"\u001b[1;36m, line \u001b[1;32m1\u001b[0m\n\u001b[1;33m    https://www.youtube.com/watch?v=mirZPrWwvao\u001b[0m\n\u001b[1;37m          ^\u001b[0m\n\u001b[1;31mSyntaxError\u001b[0m\u001b[1;31m:\u001b[0m invalid syntax\n"
     ]
    }
   ],
   "source": [
    "https://www.youtube.com/watch?v=mirZPrWwvao\n",
    "    46:30 / 2:25:00"
   ]
  },
  {
   "cell_type": "code",
   "execution_count": null,
   "id": "87f2cac5",
   "metadata": {},
   "outputs": [],
   "source": []
  }
 ],
 "metadata": {
  "kernelspec": {
   "display_name": "DHML",
   "language": "python",
   "name": "dhml"
  },
  "language_info": {
   "codemirror_mode": {
    "name": "ipython",
    "version": 3
   },
   "file_extension": ".py",
   "mimetype": "text/x-python",
   "name": "python",
   "nbconvert_exporter": "python",
   "pygments_lexer": "ipython3",
   "version": "3.8.10"
  }
 },
 "nbformat": 4,
 "nbformat_minor": 5
}
