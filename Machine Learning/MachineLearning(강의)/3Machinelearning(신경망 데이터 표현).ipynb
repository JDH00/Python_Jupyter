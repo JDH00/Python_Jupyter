{
 "cells": [
  {
   "cell_type": "markdown",
   "id": "6145517c",
   "metadata": {},
   "source": [
    "# 신경망 데이터 표현"
   ]
  },
  {
   "cell_type": "code",
   "execution_count": 1,
   "id": "328cf84f",
   "metadata": {},
   "outputs": [
    {
     "name": "stderr",
     "output_type": "stream",
     "text": [
      "C:\\Users\\coding\\AppData\\Local\\Temp\\ipykernel_20452\\122571495.py:3: MatplotlibDeprecationWarning: The seaborn styles shipped by Matplotlib are deprecated since 3.6, as they no longer correspond to the styles shipped by seaborn. However, they will remain available as 'seaborn-v0_8-<style>'. Alternatively, directly use the seaborn API instead.\n",
      "  plt.style.use(['seaborn-whitegrid'])\n"
     ]
    }
   ],
   "source": [
    "import numpy as np\n",
    "import matplotlib.pyplot as plt\n",
    "plt.style.use(['seaborn-whitegrid'])"
   ]
  },
  {
   "cell_type": "markdown",
   "id": "245b7eb3",
   "metadata": {},
   "source": [
    "# 텐서(Tensor)\n",
    "- 일반적으로 텐서는 3차원 이상을 다룰 때 표현하는 방식이지만, 여기서는 어떠한 데이터를 표현할 때, 그 값 모두를 텐서라고 부르기로 함"
   ]
  },
  {
   "cell_type": "code",
   "execution_count": 3,
   "id": "8a5d15a5",
   "metadata": {},
   "outputs": [],
   "source": [
    "a=np.array([1,2])\n",
    "b=np.array([[1,2],\n",
    "           [3,4]])\n",
    "c=np.array([10])\n",
    "d=np.array(3) # 축은 없는 하나의 단일 값이라 '스칼라' 라고 함\n",
    "#a,b,c,d 모두 텐서라고 지칭할 수 있음"
   ]
  },
  {
   "cell_type": "markdown",
   "id": "f1b5ef75",
   "metadata": {},
   "source": [
    "a,b,c,d 모두 텐서라고 지칭할 수 있음"
   ]
  },
  {
   "cell_type": "markdown",
   "id": "ef69281d",
   "metadata": {},
   "source": [
    "- 랭크(rank): 텐서의 축을 나타내고, 넘파이(numpy)의 ndim으로 구할 수 있음\n",
    "-a.ndim, b.ndim, d.ndim\n",
    "> (1, 2, 0)\n",
    "-위의 예시에서 알 수 있듯이 대괄호([])의 개수가 곧 랭크(축)의 값"
   ]
  },
  {
   "cell_type": "markdown",
   "id": "af53476c",
   "metadata": {},
   "source": [
    "a.shape, b.shape, c.shape\n",
    "> ((2,), (2, 2), (1,))\n",
    "- 크기(shape): 텐서의 각 축에 따라 얼마나 많은 차원이 있는지를 나타내며, 파이썬의 튜플(tuple) 형태"
   ]
  },
  {
   "cell_type": "markdown",
   "id": "7b4cf8aa",
   "metadata": {},
   "source": [
    "## 그림으로 이해하기\n",
    "\n",
    "![array](https://www.oreilly.com/library/view/elegant-scipy/9781491922927/assets/elsp_0105.png)\n",
    "<br /><sub>출처: https://www.oreilly.com/library/view/elegant-scipy/9781491922927/ch01.html</sub>"
   ]
  },
  {
   "cell_type": "markdown",
   "id": "489abe9a",
   "metadata": {},
   "source": [
    "# 스칼라(0차원 텐서)\n",
    "- 하나의 숫자를 담고 있는 텐서(tensor)\n",
    "- 형상은 없음"
   ]
  },
  {
   "cell_type": "code",
   "execution_count": 4,
   "id": "580e2244",
   "metadata": {},
   "outputs": [
    {
     "name": "stdout",
     "output_type": "stream",
     "text": [
      "3\n",
      "()\n",
      "0\n"
     ]
    }
   ],
   "source": [
    "x=np.array(3)\n",
    "print(x)\n",
    "print(x.shape)\n",
    "print(np.ndim(x))"
   ]
  },
  {
   "cell_type": "markdown",
   "id": "3aadda53",
   "metadata": {},
   "source": [
    "# 벡터(1차원 텐서)\n",
    "- 숫자의 배열을 나타내는 텐서"
   ]
  },
  {
   "cell_type": "code",
   "execution_count": 5,
   "id": "28bedf9d",
   "metadata": {},
   "outputs": [
    {
     "name": "stdout",
     "output_type": "stream",
     "text": [
      "[1 2 3 4]\n",
      "(4,)\n",
      "1\n"
     ]
    }
   ],
   "source": [
    "x=np.array([1,2,3,4])\n",
    "print(x)\n",
    "print(x.shape)\n",
    "print(np.ndim(x))"
   ]
  },
  {
   "cell_type": "markdown",
   "id": "fbd9aa0c",
   "metadata": {},
   "source": [
    "# 벡터의 합\n",
    "- 같은 형상(shape)일 때, 각 원소별로 계산"
   ]
  },
  {
   "cell_type": "code",
   "execution_count": 6,
   "id": "265098e9",
   "metadata": {},
   "outputs": [
    {
     "name": "stdout",
     "output_type": "stream",
     "text": [
      "[1 2 3 4]\n",
      "[5 6 7 8]\n",
      "[ 6  8 10 12]\n",
      "(4,)\n",
      "1\n"
     ]
    }
   ],
   "source": [
    "a=np.array([1,2,3,4])\n",
    "b=np.array([5,6,7,8])\n",
    "c=a+b\n",
    "print(a)\n",
    "print(b)\n",
    "print(c)\n",
    "print(c.shape)\n",
    "print(c.ndim)"
   ]
  },
  {
   "cell_type": "markdown",
   "id": "24ea1004",
   "metadata": {},
   "source": [
    "# 벡터의 곱\n",
    "-  $A = (x_1, \\ x_2, \\ x_3, \\ ..., \\ x_n)$  \n",
    "  $B = (y_1, \\ y_2, \\ y_3, \\ ..., \\ y_n)$ 일 때,\n",
    "- 원소곱\n",
    "  - 같은 형상(shape)일 때, 각 원소별로 계산   \n",
    "   \n",
    "    $A \\times B = (x_1, \\ x_2, \\ x_3, \\ ..., \\ x_n) \\times (y_1, \\ y_2, \\ y_3, \\ ..., \\ y_n) \\\\   \n",
    "    \\qquad = (x_1y_1, \\ x_2y_2, \\ x_3y_3, \\ ... \\ ,  \\ x_ny_n)  $\n",
    "    \n",
    "- 벡터곱(product, dot)\n",
    "  - 두 1차원 벡터가 있을 때 **각각의 성분끼리의 곱을 모두 더하는 계산**  \n",
    "  \n",
    "    $A \\bullet B \\Rightarrow A \\times B^T = (x_1, \\ x_2, \\ x_3, \\ ..., \\ x_n) \\begin{pmatrix} y_1 \\\\ y_2 \\\\ y_3 \\\\ ... \\\\ y_n  \\end{pmatrix} \\\\  \n",
    "    \\qquad = (x_1y_1 + \\ x_2y_2 + \\ x_3y_3 + \\ ... + \\ x_ny_n)  $\n",
    "  "
   ]
  },
  {
   "cell_type": "code",
   "execution_count": 7,
   "id": "161ecc3d",
   "metadata": {},
   "outputs": [
    {
     "name": "stdout",
     "output_type": "stream",
     "text": [
      "[ 5 12 21 32]\n",
      "(4,)\n",
      "1\n",
      "---------------------------------\n",
      "4\n",
      "()\n",
      "0\n"
     ]
    }
   ],
   "source": [
    "a=np.array([1,2,3,4])\n",
    "b=np.array([5,6,7,8])\n",
    "c=a*b\n",
    "print(c)\n",
    "print(c.shape)\n",
    "print(np.ndim(c))\n",
    "print('---------------------------------')\n",
    "x=np.array([1,2,0])\n",
    "y=np.array([0,2,1])\n",
    "z=np.dot(x,y)\n",
    "print(z)\n",
    "print(z.shape)\n",
    "print(z.ndim)"
   ]
  },
  {
   "cell_type": "markdown",
   "id": "c3942822",
   "metadata": {},
   "source": [
    "# 스칼라와 벡터의 곱"
   ]
  },
  {
   "cell_type": "code",
   "execution_count": 8,
   "id": "e0d3f1b1",
   "metadata": {},
   "outputs": [
    {
     "name": "stdout",
     "output_type": "stream",
     "text": [
      "[10 20 30]\n"
     ]
    }
   ],
   "source": [
    "a=np.array(10)\n",
    "b=np.array([1,2,3])\n",
    "print(a*b)"
   ]
  },
  {
   "cell_type": "markdown",
   "id": "31e2aca1",
   "metadata": {},
   "source": [
    "## 2차원 텐서(행렬)\n",
    "- 2차원 텐서는 행렬로 생각할 수 있음\n",
    "    - (m, n) 형상의 배열\n",
    "\n",
    "![matrix](https://upload.wikimedia.org/wikipedia/commons/thumb/4/4d/Matrix_ko.svg/570px-Matrix_ko.svg.png)\n",
    "<br /><sub>출처: https://ko.wikipedia.org/wiki/%ED%96%89%EB%A0%AC</sub>\n"
   ]
  },
  {
   "cell_type": "code",
   "execution_count": 9,
   "id": "a1a6a483",
   "metadata": {},
   "outputs": [
    {
     "name": "stdout",
     "output_type": "stream",
     "text": [
      "[[1 2 3]\n",
      " [4 5 6]]\n",
      "(2, 3)\n",
      "2\n",
      "-----------------------\n",
      "[[1 2 3 4]]\n",
      "(1, 4)\n",
      "2\n"
     ]
    }
   ],
   "source": [
    "matrix = np.array([[1,2,3],\n",
    "                 [4,5,6]])\n",
    "print(matrix)\n",
    "print(matrix.shape)\n",
    "print(np.ndim(matrix))\n",
    "print('-----------------------')\n",
    "matrix2 = np.array([[1,2,3,4]])\n",
    "print(matrix2)\n",
    "print(matrix2.shape)\n",
    "print(np.ndim(matrix2))"
   ]
  },
  {
   "cell_type": "markdown",
   "id": "c5fb14ba",
   "metadata": {},
   "source": [
    "# 행렬 원소곱\n",
    "- 같은 형상(shape)일 때 덧셈, 곱셈과 같은 연산은 원소별로 진행"
   ]
  },
  {
   "cell_type": "code",
   "execution_count": 10,
   "id": "3ad517bd",
   "metadata": {},
   "outputs": [
    {
     "name": "stdout",
     "output_type": "stream",
     "text": [
      "행렬 A\n",
      " [[1 2]\n",
      " [3 4]]\n",
      "행렬 B\n",
      " [[1 2]\n",
      " [3 4]]\n",
      "A* B\n",
      " [[10 20]\n",
      " [30 40]]\n"
     ]
    }
   ],
   "source": [
    "A=np.array([[1,2],[3,4]])\n",
    "B=np.array([[10,10],[10,10]])\n",
    "print('행렬 A\\n', A)\n",
    "print('행렬 B\\n', A)\n",
    "print('A* B\\n', A*B)"
   ]
  },
  {
   "cell_type": "markdown",
   "id": "8b309240",
   "metadata": {},
   "source": [
    "# 행렬 점곱(내적, product)\n",
    "- 1차원 벡터와 마찬가지로 앞 행렬의 열과 뒤 행렬의 행의 수가 같아야 함."
   ]
  },
  {
   "cell_type": "code",
   "execution_count": 11,
   "id": "33cd1a9a",
   "metadata": {},
   "outputs": [
    {
     "name": "stdout",
     "output_type": "stream",
     "text": [
      "행렬 M\n",
      " [[1 2]\n",
      " [3 4]]\n",
      "행렬 N\n",
      " [[2 3 4]\n",
      " [2 3 4]]\n",
      "행렬 L\n",
      " [[ 6  9 12]\n",
      " [14 21 28]]\n",
      "(2, 3)\n",
      "2\n"
     ]
    }
   ],
   "source": [
    "M=np.array([[1,2],\n",
    "           [3,4]])\n",
    "N=np.array([[2,3,4],\n",
    "           [2,3,4]])\n",
    "print('행렬 M\\n', M)\n",
    "print('행렬 N\\n', N)\n",
    "L=np.dot(M, N)\n",
    "print(\"행렬 L\\n\", L)\n",
    "print(L.shape)\n",
    "print(np.ndim(L))"
   ]
  },
  {
   "cell_type": "code",
   "execution_count": 12,
   "id": "336a7be2",
   "metadata": {},
   "outputs": [
    {
     "ename": "ValueError",
     "evalue": "shapes (3,1) and (3,1) not aligned: 1 (dim 1) != 3 (dim 0)",
     "output_type": "error",
     "traceback": [
      "\u001b[1;31m---------------------------------------------------------------------------\u001b[0m",
      "\u001b[1;31mValueError\u001b[0m                                Traceback (most recent call last)",
      "Cell \u001b[1;32mIn[12], line 3\u001b[0m\n\u001b[0;32m      1\u001b[0m m\u001b[38;5;241m=\u001b[39mnp\u001b[38;5;241m.\u001b[39marray([[\u001b[38;5;241m1\u001b[39m],[\u001b[38;5;241m2\u001b[39m],[\u001b[38;5;241m3\u001b[39m]])\n\u001b[0;32m      2\u001b[0m n\u001b[38;5;241m=\u001b[39mnp\u001b[38;5;241m.\u001b[39marray([[\u001b[38;5;241m1\u001b[39m],[\u001b[38;5;241m2\u001b[39m],[\u001b[38;5;241m3\u001b[39m]])\n\u001b[1;32m----> 3\u001b[0m l\u001b[38;5;241m=\u001b[39m\u001b[43mnp\u001b[49m\u001b[38;5;241;43m.\u001b[39;49m\u001b[43mdot\u001b[49m\u001b[43m(\u001b[49m\u001b[43mm\u001b[49m\u001b[43m,\u001b[49m\u001b[43mn\u001b[49m\u001b[43m)\u001b[49m\n\u001b[0;32m      5\u001b[0m \u001b[38;5;28mprint\u001b[39m(l)\n\u001b[0;32m      6\u001b[0m \u001b[38;5;28mprint\u001b[39m(l\u001b[38;5;241m.\u001b[39mshape)\n",
      "File \u001b[1;32m<__array_function__ internals>:180\u001b[0m, in \u001b[0;36mdot\u001b[1;34m(*args, **kwargs)\u001b[0m\n",
      "\u001b[1;31mValueError\u001b[0m: shapes (3,1) and (3,1) not aligned: 1 (dim 1) != 3 (dim 0)"
     ]
    }
   ],
   "source": [
    "m=np.array([[1],[2],[3]])\n",
    "n=np.array([[1],[2],[3]])\n",
    "l=np.dot(m,n)\n",
    "\n",
    "print(l)\n",
    "print(l.shape)\n",
    "print(np.ndim(l))"
   ]
  },
  {
   "cell_type": "markdown",
   "id": "3423720d",
   "metadata": {},
   "source": [
    "# 역행렬\n",
    "- 어떤 행렬 A가 있을 때, 곱해서 단위행렬(E)를 만드는 행렬 B가 존재한다면, 행렬 B는 A의 역행렬"
   ]
  },
  {
   "cell_type": "code",
   "execution_count": null,
   "id": "bc4357dc",
   "metadata": {},
   "outputs": [],
   "source": [
    "A=np.array([[1,2],[3,4]])\n",
    "print(A)\n",
    "B=np.linalg.inv(A)\n",
    "print(B)\n",
    "print(np.dot(A,B))"
   ]
  },
  {
   "cell_type": "code",
   "execution_count": null,
   "id": "7a6e8c81",
   "metadata": {},
   "outputs": [],
   "source": [
    "B = np.array([[3,3],[2,2]])\n",
    "print(np.linalg.inv(B))"
   ]
  },
  {
   "cell_type": "markdown",
   "id": "757d85e2",
   "metadata": {},
   "source": [
    "# 전치행렬\n",
    "- 행과 열을 바꾼 배열의 형태\n",
    "![](https://upload.wikimedia.org/wikipedia/commons/e/e4/Matrix_transpose.gif)\n",
    "<br /><sub>출처: https://ko.wikipedia.org/wiki/%EC%A0%84%EC%B9%98%ED%96%89%EB%A0%AC</sub>"
   ]
  },
  {
   "cell_type": "code",
   "execution_count": 17,
   "id": "54b8edf7",
   "metadata": {},
   "outputs": [
    {
     "name": "stdout",
     "output_type": "stream",
     "text": [
      "A\n",
      " [[1 2 3]\n",
      " [4 5 6]]\n",
      "A.shape\n",
      " (2, 3)\n",
      "---------------\n",
      "A의 전치행렬\n",
      " [[1 4]\n",
      " [2 5]\n",
      " [3 6]]\n",
      "(A.T).shape\n",
      " (3, 2)\n",
      "[[1 2 3]\n",
      " [4 5 6]]\n"
     ]
    }
   ],
   "source": [
    "A = np.array([[1,2,3],[4,5,6]])\n",
    "print('A\\n', A)\n",
    "print(\"A.shape\\n\", A.shape)\n",
    "print('---------------')\n",
    "A_= A.T\n",
    "print('A의 전치행렬\\n', A_)\n",
    "print('(A.T).shape\\n', A_.shape)\n",
    "B = A_.T\n",
    "print(B)"
   ]
  },
  {
   "cell_type": "markdown",
   "id": "b6b71efc",
   "metadata": {},
   "source": [
    "# 3차원 텐서\n",
    "- 보통 이미지를 나타낼 때 사용되는 텐서\n",
    "  - (width, height, channels)\n",
    "  - 일반적으로 Numpy array 표현\n",
    "    \n",
    "    ![3d tensor](https://image.slidesharecdn.com/tensordecomposition-170301235239/95/a-brief-survey-of-tensors-5-638.jpg)\n",
    "<br /><sub>출처: https://www.slideshare.net/BertonEarnshaw/a-brief-survey-of-tensors</sub>\n",
    "\n",
    "- 시계열 데이터 또는 시퀀스(sequence) 데이터를 표현할 때도 사용\n",
    "  - (samples, timesteps, features)\n",
    "  - (예시) 주식 가격 데이터셋, 시간에 따른 질병 발병 건수  \n",
    "![](https://kr.mathworks.com/help/deeplearning/examples/timeseriesforecastingusingdeeplearningexample_01_ko_KR.png)\n",
    "<br /><sub>출처: https://kr.mathworks.com/help/deeplearning/examples/time-series-forecasting-using-deep-learning.html</sub>"
   ]
  },
  {
   "cell_type": "code",
   "execution_count": 20,
   "id": "16996989",
   "metadata": {},
   "outputs": [
    {
     "name": "stdout",
     "output_type": "stream",
     "text": [
      "X\n",
      " [[[ 5  3  2  1]\n",
      "  [ 5  5  3  1]\n",
      "  [ 6  1  1  2]]\n",
      "\n",
      " [[ 1  1  1  1]\n",
      "  [ 3  4  7  5]\n",
      "  [ 1  8  3  4]]\n",
      "\n",
      " [[10  9  3  9]\n",
      "  [ 5  4  3  2]\n",
      "  [ 7  6  3  4]]]\n",
      "\n",
      "X.shape\n",
      " (3, 3, 4)\n",
      "X.ndim: 3\n"
     ]
    }
   ],
   "source": [
    "X = np.array([[[5,3,2,1],\n",
    "              [5,5,3,1],\n",
    "              [6,1,1,2]],\n",
    "              \n",
    "              [[1,1,1,1],\n",
    "              [3,4,7,5],\n",
    "              [1,8,3,4]],\n",
    "              \n",
    "              [[10,9,3,9],\n",
    "              [5,4,3,2],\n",
    "              [7,6,3,4]]])\n",
    "print(\"X\\n\", X, end='\\n\\n')\n",
    "print(\"X.shape\\n\", X.shape)\n",
    "print('X.ndim:',  X.ndim)"
   ]
  },
  {
   "cell_type": "code",
   "execution_count": 22,
   "id": "47a5bc56",
   "metadata": {},
   "outputs": [
    {
     "name": "stdout",
     "output_type": "stream",
     "text": [
      "행렬B:\n",
      " [[[2 3 4]\n",
      "  [2 3 4]]\n",
      "\n",
      " [[1 1 1]\n",
      "  [1 1 1]]]\n",
      "\n",
      "B의 전치행렬:\n",
      " [[[2 1]\n",
      "  [2 1]]\n",
      "\n",
      " [[3 1]\n",
      "  [3 1]]\n",
      "\n",
      " [[4 1]\n",
      "  [4 1]]]\n"
     ]
    }
   ],
   "source": [
    "B = np.array([[[2,3,4],[2,3,4]],\n",
    "             [[1,1,1],[1,1,1]]])\n",
    "print('행렬B:\\n',B, end='\\n\\n')\n",
    "print('B의 전치행렬:\\n', B.T)"
   ]
  },
  {
   "cell_type": "markdown",
   "id": "7a1e05b5",
   "metadata": {},
   "source": [
    "### 3차원 텐서 활용 예시(이미지)\n",
    "- MNIST Dataset\n",
    "- 28x28 사이즈의 gray scale 이미지들로 구성  \n",
    "![이미지](https://upload.wikimedia.org/wikipedia/commons/thumb/2/27/MnistExamples.png/440px-MnistExamples.png)  \n",
    "<sub>출처: https://ko.wikipedia.org/wiki/MNIST_%EB%8D%B0%EC%9D%B4%ED%84%B0%EB%B2%A0%EC%9D%B4%EC%8A%A4</sub>\n",
    "\n",
    "  \n",
    "- gray scale: 0~255의 값을 통해 밝기를 표현 \n",
    "  0으로 갈수록 어두워지고, 255로 갈수록 밝아짐 \n",
    "![이미지](https://miro.medium.com/max/1400/1*euc4RxnNo78LFEGrb-QZ7w.jpeg)  \n",
    "<sub>출처: https://medium.com/@himnickson/converting-rgb-image-to-the-grayscale-image-in-java-9e1edc5bd6e7</sub>\n",
    "\n"
   ]
  },
  {
   "cell_type": "code",
   "execution_count": 2,
   "id": "84bf4ef4",
   "metadata": {},
   "outputs": [
    {
     "name": "stdout",
     "output_type": "stream",
     "text": [
      "Downloading data from https://storage.googleapis.com/tensorflow/tf-keras-datasets/mnist.npz\n",
      "11490434/11490434 [==============================] - 1s 0us/step\n"
     ]
    }
   ],
   "source": [
    "from keras.datasets import mnist\n",
    "\n",
    "(train_images, train_labels), (test_images, test_labels) = mnist.load_data()"
   ]
  },
  {
   "cell_type": "code",
   "execution_count": 3,
   "id": "91b5d280",
   "metadata": {},
   "outputs": [
    {
     "name": "stdout",
     "output_type": "stream",
     "text": [
      "3\n"
     ]
    }
   ],
   "source": [
    "print(train_images.ndim)"
   ]
  },
  {
   "cell_type": "code",
   "execution_count": 4,
   "id": "972ec5ac",
   "metadata": {},
   "outputs": [
    {
     "name": "stdout",
     "output_type": "stream",
     "text": [
      "(60000, 28, 28)\n"
     ]
    }
   ],
   "source": [
    "print(train_images.shape)"
   ]
  },
  {
   "cell_type": "code",
   "execution_count": 5,
   "id": "a04e39a4",
   "metadata": {},
   "outputs": [
    {
     "name": "stdout",
     "output_type": "stream",
     "text": [
      "uint8\n"
     ]
    }
   ],
   "source": [
    "print(train_images.dtype)"
   ]
  },
  {
   "cell_type": "code",
   "execution_count": 7,
   "id": "1fd4dc4c",
   "metadata": {},
   "outputs": [
    {
     "data": {
      "image/png": "[encoded data removed]",
      "text/plain": [
       "<Figure size 640x480 with 1 Axes>"
      ]
     },
     "metadata": {},
     "output_type": "display_data"
    }
   ],
   "source": [
    "temp_image = train_images[3]\n",
    "plt.imshow(temp_image, cmap='gray')\n",
    "plt.show()"
   ]
  },
  {
   "cell_type": "markdown",
   "id": "0671f46a",
   "metadata": {},
   "source": [
    "## 브로드캐스팅(broadcasting)\n",
    "- 넘파이에서 다른 형상(shape)끼리 계산 가능\n",
    "\n",
    "- 1차원 텐서\n",
    "\n",
    "![1d](https://numpy.org/doc/1.18/_images/theory.broadcast_1.gif)\n",
    "\n",
    "- 2차원 텐서\n",
    "\n",
    "![2d](https://numpy.org/doc/1.18/_images/theory.broadcast_2.gif)\n",
    "\n",
    "- 더 작은 형상(shape)이 형상이 더 큰 배열에 확장 가능해야함\n",
    "\n",
    "![broadcast](https://numpy.org/doc/1.18/_images/theory.broadcast_3.gif) \n",
    "\n",
    "- (참고) 아래의 경우도 가능\n",
    "\n",
    "![broadcast](https://numpy.org/doc/1.18/_images/theory.broadcast_4.gif)\n",
    "\n",
    "<br /><sub>https://numpy.org/doc/1.18/user/theory.broadcasting.html#array-broadcasting-in-numpy</sub>"
   ]
  },
  {
   "cell_type": "code",
   "execution_count": 9,
   "id": "4aaff25e",
   "metadata": {},
   "outputs": [
    {
     "name": "stdout",
     "output_type": "stream",
     "text": [
      "[100 200 300]\n",
      "[100 200 300]\n"
     ]
    }
   ],
   "source": [
    "a = np.array(10)\n",
    "b = np.array([10,20,30])\n",
    "print(np.dot(a,b))\n",
    "print(a*b)"
   ]
  },
  {
   "cell_type": "code",
   "execution_count": 10,
   "id": "cedb7fcb",
   "metadata": {},
   "outputs": [
    {
     "name": "stdout",
     "output_type": "stream",
     "text": [
      "행렬 A\n",
      " [[1 2]\n",
      " [3 4]]\n",
      "행렬 B\n",
      " [10 20]\n",
      "A*B\n",
      " [[10 40]\n",
      " [30 80]]\n"
     ]
    }
   ],
   "source": [
    "A = np.array([[1,2],[3,4]])\n",
    "B = np.array([10,20])\n",
    "print('행렬 A\\n', A)\n",
    "print('행렬 B\\n', B)\n",
    "print('A*B\\n', A * B)"
   ]
  },
  {
   "cell_type": "code",
   "execution_count": 11,
   "id": "20070b60",
   "metadata": {},
   "outputs": [
    {
     "name": "stdout",
     "output_type": "stream",
     "text": [
      "행렬 A:\n",
      " [[[1 1 1]\n",
      "  [2 2 2]]\n",
      "\n",
      " [[3 3 3]\n",
      "  [4 4 4]]]\n",
      "A.shape: (2, 2, 3)\n",
      "행렬 B:\n",
      " [[10 10 10]]\n",
      "B.shape: (1, 3)\n",
      "A*B\n",
      " [[[10 10 10]\n",
      "  [20 20 20]]\n",
      "\n",
      " [[30 30 30]\n",
      "  [40 40 40]]]\n"
     ]
    }
   ],
   "source": [
    "A = np.array([[[1,1,1],\n",
    "               [2,2,2]],\n",
    "                [[3,3,3],\n",
    "                [4,4,4]]])\n",
    "B = np.array([[10,10,10]])\n",
    "print('행렬 A:\\n', A)\n",
    "print('A.shape:', A.shape)\n",
    "print('행렬 B:\\n', B)\n",
    "print('B.shape:', B.shape)\n",
    "print('A*B\\n',A*B)"
   ]
  },
  {
   "cell_type": "code",
   "execution_count": 14,
   "id": "dd0b4e80",
   "metadata": {},
   "outputs": [
    {
     "ename": "ValueError",
     "evalue": "operands could not be broadcast together with shapes (2,3) (2,) ",
     "output_type": "error",
     "traceback": [
      "\u001b[1;31m---------------------------------------------------------------------------\u001b[0m",
      "\u001b[1;31mValueError\u001b[0m                                Traceback (most recent call last)",
      "Cell \u001b[1;32mIn[14], line 3\u001b[0m\n\u001b[0;32m      1\u001b[0m A \u001b[38;5;241m=\u001b[39m np\u001b[38;5;241m.\u001b[39marray([[\u001b[38;5;241m1\u001b[39m,\u001b[38;5;241m2\u001b[39m,\u001b[38;5;241m3\u001b[39m],[\u001b[38;5;241m4\u001b[39m,\u001b[38;5;241m5\u001b[39m,\u001b[38;5;241m6\u001b[39m]])\n\u001b[0;32m      2\u001b[0m B \u001b[38;5;241m=\u001b[39m np\u001b[38;5;241m.\u001b[39marray([\u001b[38;5;241m10\u001b[39m,\u001b[38;5;241m10\u001b[39m])\n\u001b[1;32m----> 3\u001b[0m \u001b[38;5;28mprint\u001b[39m(\u001b[43mA\u001b[49m\u001b[43m \u001b[49m\u001b[38;5;241;43m*\u001b[39;49m\u001b[43m \u001b[49m\u001b[43mB\u001b[49m)\n",
      "\u001b[1;31mValueError\u001b[0m: operands could not be broadcast together with shapes (2,3) (2,) "
     ]
    }
   ],
   "source": [
    "A = np.array([[1,2,3],[4,5,6]])\n",
    "B = np.array([10,10])\n",
    "print(A * B)"
   ]
  },
  {
   "cell_type": "markdown",
   "id": "7e7ccfce",
   "metadata": {},
   "source": [
    "## 4, 5차원 텐서\n",
    "- Color Image Datasets(4차원)\n",
    "  - (samples, height, width, channels) ( Keras, Tensorflow )\n",
    "  - (samples, channels, height, width) ( Pytorch )\n",
    "\n",
    "\n",
    "- 동영상(5차원)\n",
    "  1. (samples, frames, height, width, channels)\n",
    "  2. (samples, frames, channels, height, width)\n",
    "  - 예시 1) (4, 300, 1920, 1080, 3) \n",
    "    - 1920x1080 사이즈 3채널의 300프레임 수를 가진 배치가 4개"
   ]
  },
  {
   "cell_type": "markdown",
   "id": "33556126",
   "metadata": {},
   "source": [
    "## 텐서 크기 변환\n",
    "- reshape로 텐서의 크기 변환 가능\n",
    "- **변환 전의 원소의 개수와 변환 이후의 텐서의 개수가 같아야** 함"
   ]
  },
  {
   "cell_type": "code",
   "execution_count": 18,
   "id": "ea0bd5f9",
   "metadata": {},
   "outputs": [
    {
     "name": "stdout",
     "output_type": "stream",
     "text": [
      "행렬 A\n",
      " [[1 2 3]\n",
      " [4 5 6]]\n",
      "A.shape: (2, 3)\n",
      "-----------\n",
      "A.shape: (6,)\n",
      "[1 2 3 4 5 6]\n"
     ]
    }
   ],
   "source": [
    "A = np.array([[1,2,3],[4,5,6]])\n",
    "print('행렬 A\\n', A)\n",
    "print('A.shape:', A.shape)\n",
    "print('-----------')\n",
    "A = A.reshape(6)\n",
    "print('A.shape:', A.shape)\n",
    "print(A)"
   ]
  },
  {
   "cell_type": "code",
   "execution_count": 21,
   "id": "9e66bc51",
   "metadata": {},
   "outputs": [
    {
     "name": "stdout",
     "output_type": "stream",
     "text": [
      "행렬 B\n",
      " [[[2 3 4]\n",
      "  [4 5 6]]\n",
      "\n",
      " [[1 1 1]\n",
      "  [1 1 1]]]\n",
      "B.shape: (2, 2, 3)\n",
      "-----------\n",
      "B.shape: (3, 4)\n",
      "[[2 3 4 4]\n",
      " [5 6 1 1]\n",
      " [1 1 1 1]]\n"
     ]
    }
   ],
   "source": [
    "B = np.array([[[2,3,4],[4,5,6]],\n",
    "            [[1,1,1],[1,1,1]]])\n",
    "print('행렬 B\\n', B)\n",
    "print('B.shape:', B.shape)\n",
    "print('-----------')\n",
    "B = B.reshape(3,4)\n",
    "print('B.shape:', B.shape)\n",
    "print(B)"
   ]
  },
  {
   "cell_type": "markdown",
   "id": "d54f9ced",
   "metadata": {},
   "source": [
    "- -1 을 통해 자동으로 형상을 지정 가능  \n",
    "  원소의 갯수에 맞게 넘파이가 자동으로 형상을 지정  \n",
    "      (2, 2, 3) -> (3, -1)     (O)\n",
    "                -> (2, 1, 6)   (O)\n",
    "                -> (2, -1, -1) (X)\n",
    "                -> (2, 5, -1)  (X) "
   ]
  },
  {
   "cell_type": "code",
   "execution_count": 24,
   "id": "4b11c944",
   "metadata": {},
   "outputs": [
    {
     "name": "stdout",
     "output_type": "stream",
     "text": [
      "행렬 B\n",
      " [[[2 3 4]\n",
      "  [4 5 6]]\n",
      "\n",
      " [[1 1 1]\n",
      "  [1 1 1]]]\n",
      "B.shape: (2, 2, 3)\n",
      "-----------\n",
      "B.shape: (4, 3)\n",
      "[[2 3 4]\n",
      " [4 5 6]\n",
      " [1 1 1]\n",
      " [1 1 1]]\n"
     ]
    }
   ],
   "source": [
    "B = np.array([[[2,3,4],[4,5,6]],\n",
    "            [[1,1,1],[1,1,1]]])\n",
    "print('행렬 B\\n', B)\n",
    "print('B.shape:', B.shape)\n",
    "print('-----------')\n",
    "B = B.reshape(4,-1)\n",
    "print('B.shape:', B.shape)\n",
    "print(B)"
   ]
  },
  {
   "cell_type": "code",
   "execution_count": null,
   "id": "c858c792",
   "metadata": {},
   "outputs": [],
   "source": []
  }
 ],
 "metadata": {
  "kernelspec": {
   "display_name": "coding",
   "language": "python",
   "name": "coding"
  },
  "language_info": {
   "codemirror_mode": {
    "name": "ipython",
    "version": 3
   },
   "file_extension": ".py",
   "mimetype": "text/x-python",
   "name": "python",
   "nbconvert_exporter": "python",
   "pygments_lexer": "ipython3",
   "version": "3.8.15"
  }
 },
 "nbformat": 4,
 "nbformat_minor": 5
}
