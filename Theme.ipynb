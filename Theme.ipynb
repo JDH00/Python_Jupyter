{
 "cells": [
  {
   "cell_type": "code",
   "execution_count": 5,
   "id": "fc85fd92",
   "metadata": {},
   "outputs": [
    {
     "name": "stdout",
     "output_type": "stream",
     "text": [
      "Available Themes: \n",
      "   chesterish\n",
      "   grade3\n",
      "   gruvboxd\n",
      "   gruvboxl\n",
      "   monokai\n",
      "   oceans16\n",
      "   onedork\n",
      "   solarizedd\n",
      "   solarizedl\n"
     ]
    }
   ],
   "source": [
    "!jt -l"
   ]
  },
  {
   "cell_type": "code",
   "execution_count": 9,
   "id": "1f8ba3b9",
   "metadata": {},
   "outputs": [],
   "source": [
    "!jt -t onedork -T -N -kl -f roboto -fs 10 -tfs 11 -nfs 12 -tfs 12 -ofs 10 -cellw 90% -lineh 170 -cursc r -cursw 6"
   ]
  }
 ],
 "metadata": {
  "kernelspec": {
   "display_name": "coding",
   "language": "python",
   "name": "coding"
  },
  "language_info": {
   "codemirror_mode": {
    "name": "ipython",
    "version": 3
   },
   "file_extension": ".py",
   "mimetype": "text/x-python",
   "name": "python",
   "nbconvert_exporter": "python",
   "pygments_lexer": "ipython3",
   "version": "3.8.15"
  }
 },
 "nbformat": 4,
 "nbformat_minor": 5
}
